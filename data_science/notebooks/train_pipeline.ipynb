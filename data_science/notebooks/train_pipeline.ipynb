{
 "cells": [
  {
   "cell_type": "markdown",
   "metadata": {},
   "source": [
    "\n",
    "# Physician Conversion Model\n",
    "\n",
    "This is a modeling pipeline for predicting whether a physician will convert to a new platform. The pipeline consists of the following steps:\n",
    "\n",
    "1. Split the data into train, validation, and inference sets.\n",
    "2. Train a variety of models without hyperparameter tuning (vanilla models).\n",
    "3. Select one of the vanilla models and tune its hyperparameters.\n",
    "4. Evaluate the model on the inference set.\n",
    "\n",
    "## Step 1: Split Data into Train, Validation, and Inference Sets\n",
    "\n",
    "The data was split into 70% train, 20% validation, and 10% inference sets. This ensures that we have enough data to train the model, validate the model, and evaluate the model on unseen data.\n",
    "\n",
    "## Step 2: Train Vanilla Models\n",
    "\n",
    "A variety of vanilla models were trained, including logistic regression, decision trees, and random forests. These models were trained without hyperparameter tuning.\n",
    "\n",
    "## Step 3: Select a Model\n",
    "\n",
    "One of the vanilla models (----) was selected for hyperparameter tuning. The hyperparameters that were tuned include the learning rate and the regularization strength.\n",
    "\n",
    "## Step 4: Evaluate the Model\n",
    "\n",
    "The tuned model was evaluated on the validation set. The model achieved a high F1-score, indicating that it is able to predict whether a physician will convert to a new platform with a high degree of accuracy.\n",
    "\n",
    "## Conclusion\n",
    "\n",
    "The modeling pipeline described in this document was able to achieve a high F1-score on the validation set. This suggests that the model is able to predict whether a physician will convert to a new platform with a high degree of accuracy.\n",
    "\n",
    "## Next Step\n",
    "\n",
    "The final/selected model will be used in Inference Pipeline to do predition on Inference set"
   ]
  },
  {
   "cell_type": "markdown",
   "metadata": {},
   "source": [
    "### Import Libraries and Model Input Dataset"
   ]
  },
  {
   "cell_type": "code",
   "execution_count": 129,
   "metadata": {},
   "outputs": [],
   "source": [
    "import pandas as pd\n",
    "import numpy as np\n",
    "import warnings\n",
    "warnings.filterwarnings(\"ignore\")\n",
    "\n",
    "#Visual Libraries\n",
    "import matplotlib.pyplot as plt\n",
    "import seaborn as sns\n",
    "\n",
    "# Importing necessary libraries for encoding\n",
    "from sklearn.preprocessing import OrdinalEncoder, OneHotEncoder\n",
    "\n",
    "# Importing necessary library for scaling\n",
    "from sklearn.preprocessing import StandardScaler\n",
    "\n",
    "# Importing necessary library for train-test split\n",
    "from sklearn.model_selection import train_test_split\n",
    "from sklearn.model_selection import cross_val_score\n",
    "\n",
    "# Importing necessary libraries for model development and evaluation\n",
    "from sklearn.linear_model import LogisticRegression\n",
    "from sklearn.tree import DecisionTreeClassifier\n",
    "from sklearn.ensemble import RandomForestClassifier, GradientBoostingClassifier\n",
    "from sklearn.metrics import accuracy_score, precision_score, recall_score, f1_score, roc_auc_score, roc_curve, auc\n",
    "import xgboost as xgb\n",
    "import lightgbm as lgb\n",
    "\n",
    "# Hyperparameter Tuning\n",
    "from hyperopt import fmin, tpe, hp, SparkTrials, STATUS_OK, Trials\n",
    "import os\n",
    "\n",
    "\n",
    "\n",
    "import sagemaker\n",
    "from sagemaker.analytics import ExperimentAnalytics\n",
    "from smexperiments.experiment import Experiment\n",
    "from smexperiments.trial import Trial\n",
    "from smexperiments.trial_component import TrialComponent\n",
    "from sagemaker.experiments.run import Run, load_run\n",
    "from sagemaker.utils import unique_name_from_base\n",
    "from sagemaker.session import Session"
   ]
  },
  {
   "cell_type": "markdown",
   "metadata": {},
   "source": [
    "### Loading Data"
   ]
  },
  {
   "cell_type": "code",
   "execution_count": 130,
   "metadata": {},
   "outputs": [],
   "source": [
    "import sagemaker\n",
    "from sagemaker.feature_store.feature_group import FeatureGroup\n",
    "feature_group_name = \"physician-conversion-feature-group-30-14-22-46\"\n",
    "\n",
    "# Create a SageMaker session\n",
    "sagemaker_session = sagemaker.Session()\n",
    "\n",
    "# Load the feature group\n",
    "feature_group = FeatureGroup(name=feature_group_name, sagemaker_session=sagemaker_session)"
   ]
  },
  {
   "cell_type": "code",
   "execution_count": 131,
   "metadata": {},
   "outputs": [
    {
     "name": "stdout",
     "output_type": "stream",
     "text": [
      "sagemaker_featurestore\n",
      "\n",
      "physician_conversion_feature_group_30_14_22_46_1714486966\n"
     ]
    }
   ],
   "source": [
    "query = feature_group.athena_query()\n",
    "database = query.database\n",
    "table_name = query.table_name\n",
    "print(database)\n",
    "print('')\n",
    "print(table_name)"
   ]
  },
  {
   "cell_type": "code",
   "execution_count": 132,
   "metadata": {},
   "outputs": [],
   "source": [
    "bucket = \"sagemaker-experiment-hs/\"\n",
    "prefix = \"Feature-store-trial\""
   ]
  },
  {
   "cell_type": "code",
   "execution_count": 133,
   "metadata": {},
   "outputs": [
    {
     "name": "stderr",
     "output_type": "stream",
     "text": [
      "INFO:sagemaker:Query 5aadf4c6-2134-414a-af88-9ab46df3270c is being executed.\n"
     ]
    },
    {
     "name": "stderr",
     "output_type": "stream",
     "text": [
      "INFO:sagemaker:Query 5aadf4c6-2134-414a-af88-9ab46df3270c successfully executed.\n"
     ]
    }
   ],
   "source": [
    "query_string = 'SELECT * FROM \"{}\".\"{}\"'.format(database, table_name)\n",
    "query.run(\n",
    "    query_string=query_string,\n",
    "    output_location='s3://sagemaker-experiment-hs/Feature-store-trial/'\n",
    ")\n",
    "query.wait()\n",
    "dataset = query.as_dataframe()\n"
   ]
  },
  {
   "cell_type": "code",
   "execution_count": 134,
   "metadata": {},
   "outputs": [
    {
     "data": {
      "text/html": [
       "<div>\n",
       "<style scoped>\n",
       "    .dataframe tbody tr th:only-of-type {\n",
       "        vertical-align: middle;\n",
       "    }\n",
       "\n",
       "    .dataframe tbody tr th {\n",
       "        vertical-align: top;\n",
       "    }\n",
       "\n",
       "    .dataframe thead th {\n",
       "        text-align: right;\n",
       "    }\n",
       "</style>\n",
       "<table border=\"1\" class=\"dataframe\">\n",
       "  <thead>\n",
       "    <tr style=\"text-align: right;\">\n",
       "      <th></th>\n",
       "      <th>npi_id</th>\n",
       "      <th>hcp_id</th>\n",
       "      <th>target</th>\n",
       "      <th>age</th>\n",
       "      <th>year_of_experience</th>\n",
       "      <th>number_of_rx</th>\n",
       "      <th>rx_last_1_month</th>\n",
       "      <th>rx_last_3_month</th>\n",
       "      <th>rx_last_6_month</th>\n",
       "      <th>rx_last_12_month</th>\n",
       "      <th>...</th>\n",
       "      <th>specialty_oncology</th>\n",
       "      <th>specialty_pediatric</th>\n",
       "      <th>specialty_uro-oncology</th>\n",
       "      <th>hco_affiliation_type_contract</th>\n",
       "      <th>hco_affiliation_type_employment</th>\n",
       "      <th>hco_affiliation_type_referral</th>\n",
       "      <th>eventtime</th>\n",
       "      <th>write_time</th>\n",
       "      <th>api_invocation_time</th>\n",
       "      <th>is_deleted</th>\n",
       "    </tr>\n",
       "  </thead>\n",
       "  <tbody>\n",
       "    <tr>\n",
       "      <th>0</th>\n",
       "      <td>9851763</td>\n",
       "      <td>HCP_4</td>\n",
       "      <td>1</td>\n",
       "      <td>74</td>\n",
       "      <td>35</td>\n",
       "      <td>392</td>\n",
       "      <td>704</td>\n",
       "      <td>1036</td>\n",
       "      <td>1078</td>\n",
       "      <td>1184</td>\n",
       "      <td>...</td>\n",
       "      <td>False</td>\n",
       "      <td>True</td>\n",
       "      <td>False</td>\n",
       "      <td>False</td>\n",
       "      <td>False</td>\n",
       "      <td>False</td>\n",
       "      <td>1.714487e+09</td>\n",
       "      <td>2024-04-30 14:28:40.525</td>\n",
       "      <td>2024-04-30 14:23:28.000</td>\n",
       "      <td>False</td>\n",
       "    </tr>\n",
       "    <tr>\n",
       "      <th>1</th>\n",
       "      <td>5764497</td>\n",
       "      <td>HCP_22</td>\n",
       "      <td>1</td>\n",
       "      <td>50</td>\n",
       "      <td>53</td>\n",
       "      <td>1100</td>\n",
       "      <td>1451</td>\n",
       "      <td>1638</td>\n",
       "      <td>2815</td>\n",
       "      <td>4920</td>\n",
       "      <td>...</td>\n",
       "      <td>False</td>\n",
       "      <td>False</td>\n",
       "      <td>False</td>\n",
       "      <td>False</td>\n",
       "      <td>True</td>\n",
       "      <td>False</td>\n",
       "      <td>1.714487e+09</td>\n",
       "      <td>2024-04-30 14:28:40.525</td>\n",
       "      <td>2024-04-30 14:23:28.000</td>\n",
       "      <td>False</td>\n",
       "    </tr>\n",
       "    <tr>\n",
       "      <th>2</th>\n",
       "      <td>2642428</td>\n",
       "      <td>HCP_35</td>\n",
       "      <td>0</td>\n",
       "      <td>71</td>\n",
       "      <td>34</td>\n",
       "      <td>1100</td>\n",
       "      <td>1544</td>\n",
       "      <td>2118</td>\n",
       "      <td>3672</td>\n",
       "      <td>6981</td>\n",
       "      <td>...</td>\n",
       "      <td>False</td>\n",
       "      <td>False</td>\n",
       "      <td>False</td>\n",
       "      <td>False</td>\n",
       "      <td>True</td>\n",
       "      <td>False</td>\n",
       "      <td>1.714487e+09</td>\n",
       "      <td>2024-04-30 14:28:40.525</td>\n",
       "      <td>2024-04-30 14:23:29.000</td>\n",
       "      <td>False</td>\n",
       "    </tr>\n",
       "    <tr>\n",
       "      <th>3</th>\n",
       "      <td>9970218</td>\n",
       "      <td>HCP_37</td>\n",
       "      <td>0</td>\n",
       "      <td>86</td>\n",
       "      <td>10</td>\n",
       "      <td>802</td>\n",
       "      <td>1515</td>\n",
       "      <td>2647</td>\n",
       "      <td>3683</td>\n",
       "      <td>5465</td>\n",
       "      <td>...</td>\n",
       "      <td>False</td>\n",
       "      <td>False</td>\n",
       "      <td>True</td>\n",
       "      <td>False</td>\n",
       "      <td>False</td>\n",
       "      <td>False</td>\n",
       "      <td>1.714487e+09</td>\n",
       "      <td>2024-04-30 14:28:40.525</td>\n",
       "      <td>2024-04-30 14:23:29.000</td>\n",
       "      <td>False</td>\n",
       "    </tr>\n",
       "    <tr>\n",
       "      <th>4</th>\n",
       "      <td>7358244</td>\n",
       "      <td>HCP_46</td>\n",
       "      <td>0</td>\n",
       "      <td>31</td>\n",
       "      <td>45</td>\n",
       "      <td>1100</td>\n",
       "      <td>1458</td>\n",
       "      <td>2463</td>\n",
       "      <td>3684</td>\n",
       "      <td>5433</td>\n",
       "      <td>...</td>\n",
       "      <td>False</td>\n",
       "      <td>False</td>\n",
       "      <td>False</td>\n",
       "      <td>False</td>\n",
       "      <td>False</td>\n",
       "      <td>False</td>\n",
       "      <td>1.714487e+09</td>\n",
       "      <td>2024-04-30 14:28:40.525</td>\n",
       "      <td>2024-04-30 14:23:29.000</td>\n",
       "      <td>False</td>\n",
       "    </tr>\n",
       "  </tbody>\n",
       "</table>\n",
       "<p>5 rows × 68 columns</p>\n",
       "</div>"
      ],
      "text/plain": [
       "    npi_id  hcp_id  target  age  year_of_experience  number_of_rx  \\\n",
       "0  9851763   HCP_4       1   74                  35           392   \n",
       "1  5764497  HCP_22       1   50                  53          1100   \n",
       "2  2642428  HCP_35       0   71                  34          1100   \n",
       "3  9970218  HCP_37       0   86                  10           802   \n",
       "4  7358244  HCP_46       0   31                  45          1100   \n",
       "\n",
       "   rx_last_1_month  rx_last_3_month  rx_last_6_month  rx_last_12_month  ...  \\\n",
       "0              704             1036             1078              1184  ...   \n",
       "1             1451             1638             2815              4920  ...   \n",
       "2             1544             2118             3672              6981  ...   \n",
       "3             1515             2647             3683              5465  ...   \n",
       "4             1458             2463             3684              5433  ...   \n",
       "\n",
       "   specialty_oncology  specialty_pediatric  specialty_uro-oncology  \\\n",
       "0               False                 True                   False   \n",
       "1               False                False                   False   \n",
       "2               False                False                   False   \n",
       "3               False                False                    True   \n",
       "4               False                False                   False   \n",
       "\n",
       "   hco_affiliation_type_contract  hco_affiliation_type_employment  \\\n",
       "0                          False                            False   \n",
       "1                          False                             True   \n",
       "2                          False                             True   \n",
       "3                          False                            False   \n",
       "4                          False                            False   \n",
       "\n",
       "   hco_affiliation_type_referral     eventtime               write_time  \\\n",
       "0                          False  1.714487e+09  2024-04-30 14:28:40.525   \n",
       "1                          False  1.714487e+09  2024-04-30 14:28:40.525   \n",
       "2                          False  1.714487e+09  2024-04-30 14:28:40.525   \n",
       "3                          False  1.714487e+09  2024-04-30 14:28:40.525   \n",
       "4                          False  1.714487e+09  2024-04-30 14:28:40.525   \n",
       "\n",
       "       api_invocation_time  is_deleted  \n",
       "0  2024-04-30 14:23:28.000       False  \n",
       "1  2024-04-30 14:23:28.000       False  \n",
       "2  2024-04-30 14:23:29.000       False  \n",
       "3  2024-04-30 14:23:29.000       False  \n",
       "4  2024-04-30 14:23:29.000       False  \n",
       "\n",
       "[5 rows x 68 columns]"
      ]
     },
     "execution_count": 134,
     "metadata": {},
     "output_type": "execute_result"
    }
   ],
   "source": [
    "dataset.head()"
   ]
  },
  {
   "cell_type": "markdown",
   "metadata": {},
   "source": [
    "### Load model features from s3"
   ]
  },
  {
   "cell_type": "code",
   "execution_count": 135,
   "metadata": {},
   "outputs": [
    {
     "name": "stdout",
     "output_type": "stream",
     "text": [
      "['NPI_ID', 'HCP_ID', 'TARGET', 'Age', 'Year_of_Experience', 'Number_of_Rx', 'Rx_last_1_Month', 'Rx_last_3_Month', 'Rx_last_6_Month', 'Rx_last_12_Month', 'Number_of_Px', 'Px_last_3_Month', 'Claims_last_1_Month', 'Claims_last_3_Month', 'Claims_last_6_Month', 'Claims_last_12_Month', 'Procedures_chemo_last_1_month', 'Procedures_chemo_last_3_month', 'Procedures_chemo_last_6_month', 'Procedures_chemo_last_12_month', 'Procedures_radio_last_6_month', 'Procedures_radio_last_12_month', 'Procedures_Biopsy_last_6_month', 'Procedures_Biopsy_last_12_month', 'Promotional_doximity', 'Promotional_medscape', 'Promotional_medscape_last_1_month', 'Promotional_medscape_last_3_month', 'Promotional_medscape_last_6_month', 'Promotional_medscape_last_12_month', 'VRC_visit_last_6_month', 'VRC_visit_last_12_month']\n"
     ]
    }
   ],
   "source": [
    "import pickle\n",
    "import boto3\n",
    "\n",
    "# Initialize the S3 client\n",
    "s3 = boto3.client('s3')\n",
    "\n",
    "# Specify the bucket name and the key (file path) of the pickle file in S3\n",
    "bucket_name = 'sagemaker-experiment-hs'\n",
    "key = 'processed_output//model_train_col_list.pkl'\n",
    "\n",
    "# Load the pickle file from S3\n",
    "response = s3.get_object(Bucket=bucket_name, Key=key)\n",
    "\n",
    "# Read the content of the pickle file\n",
    "pickle_bytes = response['Body'].read()\n",
    "\n",
    "# Load the pickle bytes into a Python object\n",
    "model_var_list = pickle.loads(pickle_bytes)\n",
    "\n",
    "# Now you can use the loaded_object as needed\n",
    "print(model_var_list)\n"
   ]
  },
  {
   "cell_type": "code",
   "execution_count": 136,
   "metadata": {},
   "outputs": [
    {
     "name": "stdout",
     "output_type": "stream",
     "text": [
      "['target', 'age', 'year_of_experience', 'number_of_rx', 'rx_last_1_month', 'rx_last_3_month', 'rx_last_6_month', 'rx_last_12_month', 'number_of_px', 'px_last_3_month', 'claims_last_1_month', 'claims_last_3_month', 'claims_last_6_month', 'claims_last_12_month', 'procedures_chemo_last_1_month', 'procedures_chemo_last_3_month', 'procedures_chemo_last_6_month', 'procedures_chemo_last_12_month', 'procedures_radio_last_6_month', 'procedures_radio_last_12_month', 'procedures_biopsy_last_6_month', 'procedures_biopsy_last_12_month', 'promotional_doximity', 'promotional_medscape', 'promotional_medscape_last_1_month', 'promotional_medscape_last_3_month', 'promotional_medscape_last_6_month', 'promotional_medscape_last_12_month', 'vrc_visit_last_6_month', 'vrc_visit_last_12_month']\n"
     ]
    }
   ],
   "source": [
    "model_var_list = [item.lower() for item in model_var_list]\n",
    "\n",
    "key_cols = ['npi_id', 'hcp_id']\n",
    "\n",
    "for item in key_cols:\n",
    "    if item in model_var_list:\n",
    "        model_var_list.remove(item)\n",
    "print(model_var_list)"
   ]
  },
  {
   "cell_type": "code",
   "execution_count": 137,
   "metadata": {},
   "outputs": [],
   "source": [
    "bucket = \"sagemaker-experiment-hs\"\n",
    "prefix = \"processed_output\""
   ]
  },
  {
   "cell_type": "code",
   "execution_count": 138,
   "metadata": {},
   "outputs": [
    {
     "data": {
      "text/html": [
       "<div>\n",
       "<style scoped>\n",
       "    .dataframe tbody tr th:only-of-type {\n",
       "        vertical-align: middle;\n",
       "    }\n",
       "\n",
       "    .dataframe tbody tr th {\n",
       "        vertical-align: top;\n",
       "    }\n",
       "\n",
       "    .dataframe thead th {\n",
       "        text-align: right;\n",
       "    }\n",
       "</style>\n",
       "<table border=\"1\" class=\"dataframe\">\n",
       "  <thead>\n",
       "    <tr style=\"text-align: right;\">\n",
       "      <th></th>\n",
       "      <th>target</th>\n",
       "      <th>age</th>\n",
       "      <th>year_of_experience</th>\n",
       "      <th>number_of_rx</th>\n",
       "      <th>rx_last_1_month</th>\n",
       "      <th>rx_last_3_month</th>\n",
       "      <th>rx_last_6_month</th>\n",
       "      <th>rx_last_12_month</th>\n",
       "      <th>number_of_px</th>\n",
       "      <th>px_last_3_month</th>\n",
       "      <th>...</th>\n",
       "      <th>procedures_biopsy_last_6_month</th>\n",
       "      <th>procedures_biopsy_last_12_month</th>\n",
       "      <th>promotional_doximity</th>\n",
       "      <th>promotional_medscape</th>\n",
       "      <th>promotional_medscape_last_1_month</th>\n",
       "      <th>promotional_medscape_last_3_month</th>\n",
       "      <th>promotional_medscape_last_6_month</th>\n",
       "      <th>promotional_medscape_last_12_month</th>\n",
       "      <th>vrc_visit_last_6_month</th>\n",
       "      <th>vrc_visit_last_12_month</th>\n",
       "    </tr>\n",
       "  </thead>\n",
       "  <tbody>\n",
       "    <tr>\n",
       "      <th>0</th>\n",
       "      <td>1</td>\n",
       "      <td>74</td>\n",
       "      <td>35</td>\n",
       "      <td>392</td>\n",
       "      <td>704</td>\n",
       "      <td>1036</td>\n",
       "      <td>1078</td>\n",
       "      <td>1184</td>\n",
       "      <td>217</td>\n",
       "      <td>319</td>\n",
       "      <td>...</td>\n",
       "      <td>133</td>\n",
       "      <td>262</td>\n",
       "      <td>6</td>\n",
       "      <td>6</td>\n",
       "      <td>12</td>\n",
       "      <td>16</td>\n",
       "      <td>21</td>\n",
       "      <td>27</td>\n",
       "      <td>6</td>\n",
       "      <td>7</td>\n",
       "    </tr>\n",
       "    <tr>\n",
       "      <th>1</th>\n",
       "      <td>1</td>\n",
       "      <td>50</td>\n",
       "      <td>53</td>\n",
       "      <td>1100</td>\n",
       "      <td>1451</td>\n",
       "      <td>1638</td>\n",
       "      <td>2815</td>\n",
       "      <td>4920</td>\n",
       "      <td>109</td>\n",
       "      <td>335</td>\n",
       "      <td>...</td>\n",
       "      <td>176</td>\n",
       "      <td>185</td>\n",
       "      <td>5</td>\n",
       "      <td>6</td>\n",
       "      <td>10</td>\n",
       "      <td>13</td>\n",
       "      <td>14</td>\n",
       "      <td>21</td>\n",
       "      <td>6</td>\n",
       "      <td>11</td>\n",
       "    </tr>\n",
       "    <tr>\n",
       "      <th>2</th>\n",
       "      <td>0</td>\n",
       "      <td>71</td>\n",
       "      <td>34</td>\n",
       "      <td>1100</td>\n",
       "      <td>1544</td>\n",
       "      <td>2118</td>\n",
       "      <td>3672</td>\n",
       "      <td>6981</td>\n",
       "      <td>86</td>\n",
       "      <td>237</td>\n",
       "      <td>...</td>\n",
       "      <td>106</td>\n",
       "      <td>128</td>\n",
       "      <td>9</td>\n",
       "      <td>7</td>\n",
       "      <td>14</td>\n",
       "      <td>27</td>\n",
       "      <td>30</td>\n",
       "      <td>34</td>\n",
       "      <td>6</td>\n",
       "      <td>7</td>\n",
       "    </tr>\n",
       "    <tr>\n",
       "      <th>3</th>\n",
       "      <td>0</td>\n",
       "      <td>86</td>\n",
       "      <td>10</td>\n",
       "      <td>802</td>\n",
       "      <td>1515</td>\n",
       "      <td>2647</td>\n",
       "      <td>3683</td>\n",
       "      <td>5465</td>\n",
       "      <td>120</td>\n",
       "      <td>324</td>\n",
       "      <td>...</td>\n",
       "      <td>86</td>\n",
       "      <td>93</td>\n",
       "      <td>8</td>\n",
       "      <td>8</td>\n",
       "      <td>13</td>\n",
       "      <td>14</td>\n",
       "      <td>24</td>\n",
       "      <td>45</td>\n",
       "      <td>8</td>\n",
       "      <td>13</td>\n",
       "    </tr>\n",
       "    <tr>\n",
       "      <th>4</th>\n",
       "      <td>0</td>\n",
       "      <td>31</td>\n",
       "      <td>45</td>\n",
       "      <td>1100</td>\n",
       "      <td>1458</td>\n",
       "      <td>2463</td>\n",
       "      <td>3684</td>\n",
       "      <td>5433</td>\n",
       "      <td>232</td>\n",
       "      <td>458</td>\n",
       "      <td>...</td>\n",
       "      <td>85</td>\n",
       "      <td>157</td>\n",
       "      <td>9</td>\n",
       "      <td>8</td>\n",
       "      <td>10</td>\n",
       "      <td>18</td>\n",
       "      <td>26</td>\n",
       "      <td>38</td>\n",
       "      <td>5</td>\n",
       "      <td>9</td>\n",
       "    </tr>\n",
       "    <tr>\n",
       "      <th>...</th>\n",
       "      <td>...</td>\n",
       "      <td>...</td>\n",
       "      <td>...</td>\n",
       "      <td>...</td>\n",
       "      <td>...</td>\n",
       "      <td>...</td>\n",
       "      <td>...</td>\n",
       "      <td>...</td>\n",
       "      <td>...</td>\n",
       "      <td>...</td>\n",
       "      <td>...</td>\n",
       "      <td>...</td>\n",
       "      <td>...</td>\n",
       "      <td>...</td>\n",
       "      <td>...</td>\n",
       "      <td>...</td>\n",
       "      <td>...</td>\n",
       "      <td>...</td>\n",
       "      <td>...</td>\n",
       "      <td>...</td>\n",
       "      <td>...</td>\n",
       "    </tr>\n",
       "    <tr>\n",
       "      <th>4995</th>\n",
       "      <td>0</td>\n",
       "      <td>38</td>\n",
       "      <td>45</td>\n",
       "      <td>1100</td>\n",
       "      <td>1104</td>\n",
       "      <td>1908</td>\n",
       "      <td>3023</td>\n",
       "      <td>3807</td>\n",
       "      <td>243</td>\n",
       "      <td>561</td>\n",
       "      <td>...</td>\n",
       "      <td>100</td>\n",
       "      <td>115</td>\n",
       "      <td>6</td>\n",
       "      <td>8</td>\n",
       "      <td>11</td>\n",
       "      <td>20</td>\n",
       "      <td>29</td>\n",
       "      <td>56</td>\n",
       "      <td>6</td>\n",
       "      <td>11</td>\n",
       "    </tr>\n",
       "    <tr>\n",
       "      <th>4996</th>\n",
       "      <td>0</td>\n",
       "      <td>63</td>\n",
       "      <td>57</td>\n",
       "      <td>905</td>\n",
       "      <td>1037</td>\n",
       "      <td>1772</td>\n",
       "      <td>2147</td>\n",
       "      <td>3416</td>\n",
       "      <td>179</td>\n",
       "      <td>356</td>\n",
       "      <td>...</td>\n",
       "      <td>137</td>\n",
       "      <td>211</td>\n",
       "      <td>10</td>\n",
       "      <td>6</td>\n",
       "      <td>11</td>\n",
       "      <td>15</td>\n",
       "      <td>19</td>\n",
       "      <td>31</td>\n",
       "      <td>5</td>\n",
       "      <td>7</td>\n",
       "    </tr>\n",
       "    <tr>\n",
       "      <th>4997</th>\n",
       "      <td>0</td>\n",
       "      <td>89</td>\n",
       "      <td>10</td>\n",
       "      <td>483</td>\n",
       "      <td>679</td>\n",
       "      <td>1161</td>\n",
       "      <td>1602</td>\n",
       "      <td>2339</td>\n",
       "      <td>266</td>\n",
       "      <td>648</td>\n",
       "      <td>...</td>\n",
       "      <td>145</td>\n",
       "      <td>182</td>\n",
       "      <td>8</td>\n",
       "      <td>9</td>\n",
       "      <td>10</td>\n",
       "      <td>18</td>\n",
       "      <td>34</td>\n",
       "      <td>51</td>\n",
       "      <td>8</td>\n",
       "      <td>12</td>\n",
       "    </tr>\n",
       "    <tr>\n",
       "      <th>4998</th>\n",
       "      <td>0</td>\n",
       "      <td>74</td>\n",
       "      <td>11</td>\n",
       "      <td>300</td>\n",
       "      <td>592</td>\n",
       "      <td>797</td>\n",
       "      <td>1381</td>\n",
       "      <td>2484</td>\n",
       "      <td>74</td>\n",
       "      <td>236</td>\n",
       "      <td>...</td>\n",
       "      <td>148</td>\n",
       "      <td>266</td>\n",
       "      <td>9</td>\n",
       "      <td>6</td>\n",
       "      <td>11</td>\n",
       "      <td>13</td>\n",
       "      <td>18</td>\n",
       "      <td>24</td>\n",
       "      <td>6</td>\n",
       "      <td>8</td>\n",
       "    </tr>\n",
       "    <tr>\n",
       "      <th>4999</th>\n",
       "      <td>0</td>\n",
       "      <td>64</td>\n",
       "      <td>60</td>\n",
       "      <td>849</td>\n",
       "      <td>1110</td>\n",
       "      <td>1243</td>\n",
       "      <td>2323</td>\n",
       "      <td>4382</td>\n",
       "      <td>180</td>\n",
       "      <td>503</td>\n",
       "      <td>...</td>\n",
       "      <td>172</td>\n",
       "      <td>264</td>\n",
       "      <td>5</td>\n",
       "      <td>6</td>\n",
       "      <td>8</td>\n",
       "      <td>9</td>\n",
       "      <td>12</td>\n",
       "      <td>13</td>\n",
       "      <td>8</td>\n",
       "      <td>12</td>\n",
       "    </tr>\n",
       "  </tbody>\n",
       "</table>\n",
       "<p>5000 rows × 30 columns</p>\n",
       "</div>"
      ],
      "text/plain": [
       "      target  age  year_of_experience  number_of_rx  rx_last_1_month  \\\n",
       "0          1   74                  35           392              704   \n",
       "1          1   50                  53          1100             1451   \n",
       "2          0   71                  34          1100             1544   \n",
       "3          0   86                  10           802             1515   \n",
       "4          0   31                  45          1100             1458   \n",
       "...      ...  ...                 ...           ...              ...   \n",
       "4995       0   38                  45          1100             1104   \n",
       "4996       0   63                  57           905             1037   \n",
       "4997       0   89                  10           483              679   \n",
       "4998       0   74                  11           300              592   \n",
       "4999       0   64                  60           849             1110   \n",
       "\n",
       "      rx_last_3_month  rx_last_6_month  rx_last_12_month  number_of_px  \\\n",
       "0                1036             1078              1184           217   \n",
       "1                1638             2815              4920           109   \n",
       "2                2118             3672              6981            86   \n",
       "3                2647             3683              5465           120   \n",
       "4                2463             3684              5433           232   \n",
       "...               ...              ...               ...           ...   \n",
       "4995             1908             3023              3807           243   \n",
       "4996             1772             2147              3416           179   \n",
       "4997             1161             1602              2339           266   \n",
       "4998              797             1381              2484            74   \n",
       "4999             1243             2323              4382           180   \n",
       "\n",
       "      px_last_3_month  ...  procedures_biopsy_last_6_month  \\\n",
       "0                 319  ...                             133   \n",
       "1                 335  ...                             176   \n",
       "2                 237  ...                             106   \n",
       "3                 324  ...                              86   \n",
       "4                 458  ...                              85   \n",
       "...               ...  ...                             ...   \n",
       "4995              561  ...                             100   \n",
       "4996              356  ...                             137   \n",
       "4997              648  ...                             145   \n",
       "4998              236  ...                             148   \n",
       "4999              503  ...                             172   \n",
       "\n",
       "      procedures_biopsy_last_12_month  promotional_doximity  \\\n",
       "0                                 262                     6   \n",
       "1                                 185                     5   \n",
       "2                                 128                     9   \n",
       "3                                  93                     8   \n",
       "4                                 157                     9   \n",
       "...                               ...                   ...   \n",
       "4995                              115                     6   \n",
       "4996                              211                    10   \n",
       "4997                              182                     8   \n",
       "4998                              266                     9   \n",
       "4999                              264                     5   \n",
       "\n",
       "      promotional_medscape  promotional_medscape_last_1_month  \\\n",
       "0                        6                                 12   \n",
       "1                        6                                 10   \n",
       "2                        7                                 14   \n",
       "3                        8                                 13   \n",
       "4                        8                                 10   \n",
       "...                    ...                                ...   \n",
       "4995                     8                                 11   \n",
       "4996                     6                                 11   \n",
       "4997                     9                                 10   \n",
       "4998                     6                                 11   \n",
       "4999                     6                                  8   \n",
       "\n",
       "      promotional_medscape_last_3_month  promotional_medscape_last_6_month  \\\n",
       "0                                    16                                 21   \n",
       "1                                    13                                 14   \n",
       "2                                    27                                 30   \n",
       "3                                    14                                 24   \n",
       "4                                    18                                 26   \n",
       "...                                 ...                                ...   \n",
       "4995                                 20                                 29   \n",
       "4996                                 15                                 19   \n",
       "4997                                 18                                 34   \n",
       "4998                                 13                                 18   \n",
       "4999                                  9                                 12   \n",
       "\n",
       "      promotional_medscape_last_12_month  vrc_visit_last_6_month  \\\n",
       "0                                     27                       6   \n",
       "1                                     21                       6   \n",
       "2                                     34                       6   \n",
       "3                                     45                       8   \n",
       "4                                     38                       5   \n",
       "...                                  ...                     ...   \n",
       "4995                                  56                       6   \n",
       "4996                                  31                       5   \n",
       "4997                                  51                       8   \n",
       "4998                                  24                       6   \n",
       "4999                                  13                       8   \n",
       "\n",
       "      vrc_visit_last_12_month  \n",
       "0                           7  \n",
       "1                          11  \n",
       "2                           7  \n",
       "3                          13  \n",
       "4                           9  \n",
       "...                       ...  \n",
       "4995                       11  \n",
       "4996                        7  \n",
       "4997                       12  \n",
       "4998                        8  \n",
       "4999                       12  \n",
       "\n",
       "[5000 rows x 30 columns]"
      ]
     },
     "execution_count": 138,
     "metadata": {},
     "output_type": "execute_result"
    }
   ],
   "source": [
    "# Select useful columns for training with target column as the first.\n",
    "# Initialize the S3 client\n",
    "s3_client = boto3.client('s3')\n",
    "dataset = dataset[model_var_list]\n",
    "\n",
    "# Write to csv in S3 without headers and index column.\n",
    "dataset.to_csv(\"dataset.csv\", header=False, index=False)\n",
    "s3_client.upload_file(\"dataset.csv\", bucket, prefix + \"/training_input/dataset.csv\")\n",
    "dataset_uri_prefix = \"s3://\" + bucket + \"/\" + prefix + \"/training_input/\"\n",
    "\n",
    "dataset"
   ]
  },
  {
   "cell_type": "markdown",
   "metadata": {},
   "source": [
    "#### Split the dataset into Train & Test"
   ]
  },
  {
   "cell_type": "code",
   "execution_count": 139,
   "metadata": {},
   "outputs": [
    {
     "name": "stdout",
     "output_type": "stream",
     "text": [
      "shape of train data: \n",
      "(4000, 29)\n",
      "\n",
      "(4000,)\n",
      "\n",
      "Distribution of target variable:  target\n",
      "0    0.74975\n",
      "1    0.25025\n",
      "Name: proportion, dtype: float64\n",
      "\n",
      "shape of validation data: \n",
      "(1000, 29)\n",
      "\n",
      "(1000,)\n",
      "\n",
      "Distribution of target variable:  target\n",
      "0    0.75\n",
      "1    0.25\n",
      "Name: proportion, dtype: float64\n",
      "\n"
     ]
    }
   ],
   "source": [
    "# Defining the features (X) and the target (y)\n",
    "X = dataset.drop(\"target\", axis=1)\n",
    "y = dataset[\"target\"]\n",
    "\n",
    "# Performing the train-val split\n",
    "X_train, X_val, y_train, y_val = train_test_split(X, y, test_size=0.2, random_state=42, stratify= y)\n",
    "\n",
    "print('shape of train data: ')\n",
    "print(X_train.shape)\n",
    "print('')\n",
    "print(y_train.shape)\n",
    "print('')\n",
    "print(\"Distribution of target variable: \",y_train.value_counts(normalize=True))\n",
    "print('')\n",
    "print('shape of validation data: ')\n",
    "print(X_val.shape)\n",
    "print('')\n",
    "print(y_val.shape)\n",
    "print('')\n",
    "print(\"Distribution of target variable: \",y_val.value_counts(normalize=True))\n",
    "print('')"
   ]
  },
  {
   "cell_type": "code",
   "execution_count": 140,
   "metadata": {},
   "outputs": [],
   "source": [
    "# Defining the function to apply models\n",
    "def apply_model(model, X_train, y_train, X_val, y_val):\n",
    "    # Fit the model\n",
    "    model.fit(X_train, y_train)\n",
    "\n",
    "    # Make predictions\n",
    "    y_train_pred = model.predict(X_train)\n",
    "    y_pred = model.predict(X_val)\n",
    "\n",
    "    # Calculate performance metrics\n",
    "    accuracy_train = accuracy_score(y_train, y_train_pred)\n",
    "    accuracy_val = accuracy_score(y_val, y_pred)\n",
    "    f1_train = f1_score(y_train,y_train_pred)\n",
    "    f1_val = f1_score(y_val, y_pred)\n",
    "    return accuracy_train, accuracy_val,f1_train,f1_val"
   ]
  },
  {
   "cell_type": "code",
   "execution_count": 141,
   "metadata": {},
   "outputs": [],
   "source": [
    "# Defining the models\n",
    "vanila_models = [\n",
    "    (\"Logistic Regression\", LogisticRegression(random_state=321)),\n",
    "    (\"Decision Tree\", DecisionTreeClassifier(random_state=321)),\n",
    "    (\"Random Forest\", RandomForestClassifier(random_state=321)),\n",
    "    (\"XGB Classifier\", xgb.XGBClassifier(random_state=321)),\n",
    "    (\"LGBM Classifier\", lgb.LGBMClassifier(random_state=321))\n",
    "]"
   ]
  },
  {
   "cell_type": "code",
   "execution_count": 142,
   "metadata": {},
   "outputs": [],
   "source": [
    "#id col not to be considered while training\n",
    "drop_id_col_list = ['NPI_ID', 'HCP_ID']\n",
    "\n",
    "# Applying the models and storing the results\n",
    "results_model_name = []\n",
    "results_accuracy_val = []\n",
    "results_f1_score_val = []\n",
    "results_accuracy_train = []\n",
    "results_f1_score_train = []\n",
    "\n",
    "for name, model in vanila_models:\n",
    "    accuracy_train, accuracy_val,f1_train,f1_val = apply_model(model, X_train, y_train, X_val, y_val)\n",
    "    results_model_name.append(name)\n",
    "    results_accuracy_train.append(accuracy_train)\n",
    "    results_accuracy_val.append(accuracy_val)\n",
    "    results_f1_score_train.append(f1_train)\n",
    "    results_f1_score_val.append(f1_val)"
   ]
  },
  {
   "cell_type": "code",
   "execution_count": 143,
   "metadata": {},
   "outputs": [
    {
     "name": "stdout",
     "output_type": "stream",
     "text": [
      "            Model_Name  Accuracy_Train  Accuracy_Val  F1_Score_Train  F1_Score_Val\n",
      "0  Logistic Regression         0.74975         0.745        0.054769      0.052045\n",
      "1        Decision Tree         1.00000         0.793        1.000000      0.581818\n",
      "2        Random Forest         1.00000         0.795        1.000000      0.551422\n",
      "3       XGB Classifier         1.00000         0.830        1.000000      0.673077\n",
      "4      LGBM Classifier         1.00000         0.821        1.000000      0.662900\n"
     ]
    }
   ],
   "source": [
    "results_df = pd.DataFrame(columns=['Model_Name',\n",
    "                                   'Accuracy_Train','Accuracy_Val',\n",
    "                                   'F1_Score_Train','F1_Score_Val'])\n",
    "\n",
    "results_df['Model_Name'] = results_model_name\n",
    "results_df['Accuracy_Train'] = results_accuracy_train\n",
    "results_df['Accuracy_Val'] = results_accuracy_val\n",
    "results_df['F1_Score_Train'] = results_f1_score_train\n",
    "results_df['F1_Score_Val'] = results_f1_score_val\n",
    "\n",
    "print(results_df.to_string())"
   ]
  },
  {
   "cell_type": "markdown",
   "metadata": {},
   "source": [
    "### Result Summary:\n",
    "- Decision Tree, XGB and LGBM looks promising in comparison to others\n",
    "- Decison Tree is prone to overfitting so Initially will pick LGBM and if the tuned model performs good we will consider the same for Registry"
   ]
  },
  {
   "cell_type": "markdown",
   "metadata": {},
   "source": [
    "### Experimentation"
   ]
  },
  {
   "cell_type": "markdown",
   "metadata": {},
   "source": [
    "##### Model Develpment \n",
    "**LGBM and XGB Tuning using Hyperopt**"
   ]
  },
  {
   "cell_type": "code",
   "execution_count": 144,
   "metadata": {},
   "outputs": [],
   "source": [
    "def evaluate_model(model, X_train, y_train, X_val, y_val):\n",
    "    model.fit(X_train, y_train)\n",
    "    y_pred_train = model.predict(X_train)\n",
    "    y_pred_val = model.predict(X_val)\n",
    "\n",
    "    f1_train = f1_score(y_train, y_pred_train)\n",
    "    accuracy_train = accuracy_score(y_train, y_pred_train)\n",
    "\n",
    "    f1_val = f1_score(y_val, y_pred_val)\n",
    "    accuracy_val = accuracy_score(y_val, y_pred_val)\n",
    "\n",
    "    return f1_train, accuracy_train, f1_val, accuracy_val\n"
   ]
  },
  {
   "cell_type": "code",
   "execution_count": 145,
   "metadata": {},
   "outputs": [],
   "source": [
    "from sklearn.metrics import confusion_matrix, roc_curve, auc\n",
    "\n",
    "def eval_cm(model, X_train, y_train, X_val, y_val):\n",
    "   model.fit(X_train, y_train)\n",
    "   y_pred_train = model.predict(X_train)\n",
    "   y_pred_val = model.predict(X_val)\n",
    "\n",
    "   # Confusion Matrix\n",
    "   plt.figure(figsize=(8, 6))\n",
    "   cm_train = confusion_matrix(y_train, y_pred_train)\n",
    "   cm_val = confusion_matrix(y_val, y_pred_val)\n",
    "   plt.subplot(1, 2, 1)\n",
    "   sns.heatmap(cm_train, annot=True, fmt='d', cmap='Blues', cbar=False)\n",
    "   plt.title('Confusion Matrix (Train)')\n",
    "   plt.subplot(1, 2, 2)\n",
    "   sns.heatmap(cm_val, annot=True, fmt='d', cmap='Blues', cbar=False)\n",
    "   plt.title('Confusion Matrix (Validation)')\n",
    "   plt.tight_layout()\n",
    "   plt.show()"
   ]
  },
  {
   "cell_type": "markdown",
   "metadata": {},
   "source": [
    "##### Classifier 1 - LGBM Classifier"
   ]
  },
  {
   "cell_type": "code",
   "execution_count": 146,
   "metadata": {},
   "outputs": [
    {
     "name": "stdout",
     "output_type": "stream",
     "text": [
      "  0%|          | 0/10 [00:00<?, ?trial/s, best loss=?]"
     ]
    },
    {
     "name": "stderr",
     "output_type": "stream",
     "text": [
      "INFO:hyperopt.tpe:build_posterior_wrapper took 0.006430 seconds\n",
      "INFO:hyperopt.tpe:TPE using 0 trials\n"
     ]
    },
    {
     "name": "stdout",
     "output_type": "stream",
     "text": [
      " 10%|█         | 1/10 [00:00<00:02,  4.06trial/s, best loss: -0.6704545454545454]"
     ]
    },
    {
     "name": "stderr",
     "output_type": "stream",
     "text": [
      "INFO:hyperopt.tpe:build_posterior_wrapper took 0.003504 seconds\n",
      "INFO:hyperopt.tpe:TPE using 1/1 trials with best loss -0.670455\n"
     ]
    },
    {
     "name": "stdout",
     "output_type": "stream",
     "text": [
      " 20%|██        | 2/10 [00:00<00:02,  3.35trial/s, best loss: -0.6942446043165468]"
     ]
    },
    {
     "name": "stderr",
     "output_type": "stream",
     "text": [
      "INFO:hyperopt.tpe:build_posterior_wrapper took 0.003422 seconds\n",
      "INFO:hyperopt.tpe:TPE using 2/2 trials with best loss -0.694245\n"
     ]
    },
    {
     "name": "stdout",
     "output_type": "stream",
     "text": [
      " 30%|███       | 3/10 [00:00<00:01,  3.54trial/s, best loss: -0.6942446043165468]"
     ]
    },
    {
     "name": "stderr",
     "output_type": "stream",
     "text": [
      "INFO:hyperopt.tpe:build_posterior_wrapper took 0.003463 seconds\n",
      "INFO:hyperopt.tpe:TPE using 3/3 trials with best loss -0.694245\n"
     ]
    },
    {
     "name": "stdout",
     "output_type": "stream",
     "text": [
      " 40%|████      | 4/10 [00:01<00:01,  3.11trial/s, best loss: -0.6942446043165468]"
     ]
    },
    {
     "name": "stderr",
     "output_type": "stream",
     "text": [
      "INFO:hyperopt.tpe:build_posterior_wrapper took 0.003857 seconds\n",
      "INFO:hyperopt.tpe:TPE using 4/4 trials with best loss -0.694245\n"
     ]
    },
    {
     "name": "stdout",
     "output_type": "stream",
     "text": [
      " 50%|█████     | 5/10 [00:01<00:01,  3.62trial/s, best loss: -0.7009174311926606]"
     ]
    },
    {
     "name": "stderr",
     "output_type": "stream",
     "text": [
      "INFO:hyperopt.tpe:build_posterior_wrapper took 0.003828 seconds\n",
      "INFO:hyperopt.tpe:TPE using 5/5 trials with best loss -0.700917\n"
     ]
    },
    {
     "name": "stdout",
     "output_type": "stream",
     "text": [
      " 60%|██████    | 6/10 [00:01<00:01,  3.79trial/s, best loss: -0.7009174311926606]"
     ]
    },
    {
     "name": "stderr",
     "output_type": "stream",
     "text": [
      "INFO:hyperopt.tpe:build_posterior_wrapper took 0.003418 seconds\n",
      "INFO:hyperopt.tpe:TPE using 6/6 trials with best loss -0.700917\n"
     ]
    },
    {
     "name": "stdout",
     "output_type": "stream",
     "text": [
      " 70%|███████   | 7/10 [00:01<00:00,  4.49trial/s, best loss: -0.7406143344709898]"
     ]
    },
    {
     "name": "stderr",
     "output_type": "stream",
     "text": [
      "INFO:hyperopt.tpe:build_posterior_wrapper took 0.003212 seconds\n",
      "INFO:hyperopt.tpe:TPE using 7/7 trials with best loss -0.740614\n"
     ]
    },
    {
     "name": "stdout",
     "output_type": "stream",
     "text": [
      " 80%|████████  | 8/10 [00:01<00:00,  5.10trial/s, best loss: -0.7406143344709898]"
     ]
    },
    {
     "name": "stderr",
     "output_type": "stream",
     "text": [
      "INFO:hyperopt.tpe:build_posterior_wrapper took 0.004850 seconds\n",
      "INFO:hyperopt.tpe:TPE using 8/8 trials with best loss -0.740614\n"
     ]
    },
    {
     "name": "stdout",
     "output_type": "stream",
     "text": [
      " 90%|█████████ | 9/10 [00:02<00:00,  4.60trial/s, best loss: -0.7406143344709898]"
     ]
    },
    {
     "name": "stderr",
     "output_type": "stream",
     "text": [
      "INFO:hyperopt.tpe:build_posterior_wrapper took 0.006686 seconds\n",
      "INFO:hyperopt.tpe:TPE using 9/9 trials with best loss -0.740614\n"
     ]
    },
    {
     "name": "stdout",
     "output_type": "stream",
     "text": [
      "100%|██████████| 10/10 [00:02<00:00,  3.84trial/s, best loss: -0.7406143344709898]\n"
     ]
    }
   ],
   "source": [
    "# Define the hyperparameter search space\n",
    "space = {\n",
    " #  'num_leaves': hp.choice('num_leaves', [10,15,20,25]),\n",
    "   'learning_rate': hp.loguniform('learning_rate', np.log(0.01), np.log(0.2)),\n",
    "   'max_depth': hp.choice('max_depth', [4,5,6,7,8,9,10]),\n",
    "   'min_child_weight': hp.choice('min_child_weight', [1,2,3,4]),\n",
    " #  'subsample': hp.uniform('subsample', 0.5, 1),\n",
    "   'colsample_bytree': hp.uniform('colsample_bytree', 0.5, 1),\n",
    "   'reg_alpha': hp.loguniform('reg_alpha', np.log(0.001), np.log(10)),\n",
    "   'reg_lambda': hp.loguniform('reg_lambda', np.log(0.001), np.log(10))\n",
    "}\n",
    "\n",
    "def objective(params):\n",
    "   with warnings.catch_warnings():\n",
    "      warnings.filterwarnings(\"ignore\",category=DeprecationWarning)\n",
    "      model = lgb.LGBMClassifier(\n",
    "      #  boosting_type='gbdt',\n",
    "         objective='binary',\n",
    "         metric='binary_logloss',\n",
    "         n_jobs=-1,\n",
    "         **params\n",
    "   )\n",
    "      model.fit(X_train.drop(drop_id_col_list, axis=1, errors='ignore'), y_train)\n",
    "      y_pred = model.predict(X_val.drop(drop_id_col_list, axis=1, errors='ignore'))\n",
    "      score = f1_score(y_val, y_pred)\n",
    "   return -score  # Minimize the negative of F1-score\n",
    "\n",
    "trials = Trials()\n",
    "lgbm_param = fmin(fn=objective,\n",
    "           space=space,\n",
    "           algo=tpe.suggest,\n",
    "           max_evals=10,\n",
    "           trials=trials,\n",
    "           verbose=1)"
   ]
  },
  {
   "cell_type": "code",
   "execution_count": 147,
   "metadata": {},
   "outputs": [],
   "source": [
    "# Extract the best hyperparameters from the search results\n",
    "best_hyperparams = {\n",
    "    'colsample_bytree': lgbm_param['colsample_bytree'],\n",
    "    'learning_rate': lgbm_param['learning_rate'],\n",
    "    'max_depth': int(lgbm_param['max_depth']),\n",
    "    'min_child_weight': int(lgbm_param['min_child_weight']),\n",
    "    'reg_alpha': float(lgbm_param['reg_alpha']),\n",
    "    'reg_lambda': float(lgbm_param['reg_lambda'])\n",
    "}"
   ]
  },
  {
   "cell_type": "code",
   "execution_count": 148,
   "metadata": {},
   "outputs": [
    {
     "data": {
      "text/html": [
       "<style>#sk-container-id-7 {\n",
       "  /* Definition of color scheme common for light and dark mode */\n",
       "  --sklearn-color-text: black;\n",
       "  --sklearn-color-line: gray;\n",
       "  /* Definition of color scheme for unfitted estimators */\n",
       "  --sklearn-color-unfitted-level-0: #fff5e6;\n",
       "  --sklearn-color-unfitted-level-1: #f6e4d2;\n",
       "  --sklearn-color-unfitted-level-2: #ffe0b3;\n",
       "  --sklearn-color-unfitted-level-3: chocolate;\n",
       "  /* Definition of color scheme for fitted estimators */\n",
       "  --sklearn-color-fitted-level-0: #f0f8ff;\n",
       "  --sklearn-color-fitted-level-1: #d4ebff;\n",
       "  --sklearn-color-fitted-level-2: #b3dbfd;\n",
       "  --sklearn-color-fitted-level-3: cornflowerblue;\n",
       "\n",
       "  /* Specific color for light theme */\n",
       "  --sklearn-color-text-on-default-background: var(--sg-text-color, var(--theme-code-foreground, var(--jp-content-font-color1, black)));\n",
       "  --sklearn-color-background: var(--sg-background-color, var(--theme-background, var(--jp-layout-color0, white)));\n",
       "  --sklearn-color-border-box: var(--sg-text-color, var(--theme-code-foreground, var(--jp-content-font-color1, black)));\n",
       "  --sklearn-color-icon: #696969;\n",
       "\n",
       "  @media (prefers-color-scheme: dark) {\n",
       "    /* Redefinition of color scheme for dark theme */\n",
       "    --sklearn-color-text-on-default-background: var(--sg-text-color, var(--theme-code-foreground, var(--jp-content-font-color1, white)));\n",
       "    --sklearn-color-background: var(--sg-background-color, var(--theme-background, var(--jp-layout-color0, #111)));\n",
       "    --sklearn-color-border-box: var(--sg-text-color, var(--theme-code-foreground, var(--jp-content-font-color1, white)));\n",
       "    --sklearn-color-icon: #878787;\n",
       "  }\n",
       "}\n",
       "\n",
       "#sk-container-id-7 {\n",
       "  color: var(--sklearn-color-text);\n",
       "}\n",
       "\n",
       "#sk-container-id-7 pre {\n",
       "  padding: 0;\n",
       "}\n",
       "\n",
       "#sk-container-id-7 input.sk-hidden--visually {\n",
       "  border: 0;\n",
       "  clip: rect(1px 1px 1px 1px);\n",
       "  clip: rect(1px, 1px, 1px, 1px);\n",
       "  height: 1px;\n",
       "  margin: -1px;\n",
       "  overflow: hidden;\n",
       "  padding: 0;\n",
       "  position: absolute;\n",
       "  width: 1px;\n",
       "}\n",
       "\n",
       "#sk-container-id-7 div.sk-dashed-wrapped {\n",
       "  border: 1px dashed var(--sklearn-color-line);\n",
       "  margin: 0 0.4em 0.5em 0.4em;\n",
       "  box-sizing: border-box;\n",
       "  padding-bottom: 0.4em;\n",
       "  background-color: var(--sklearn-color-background);\n",
       "}\n",
       "\n",
       "#sk-container-id-7 div.sk-container {\n",
       "  /* jupyter's `normalize.less` sets `[hidden] { display: none; }`\n",
       "     but bootstrap.min.css set `[hidden] { display: none !important; }`\n",
       "     so we also need the `!important` here to be able to override the\n",
       "     default hidden behavior on the sphinx rendered scikit-learn.org.\n",
       "     See: https://github.com/scikit-learn/scikit-learn/issues/21755 */\n",
       "  display: inline-block !important;\n",
       "  position: relative;\n",
       "}\n",
       "\n",
       "#sk-container-id-7 div.sk-text-repr-fallback {\n",
       "  display: none;\n",
       "}\n",
       "\n",
       "div.sk-parallel-item,\n",
       "div.sk-serial,\n",
       "div.sk-item {\n",
       "  /* draw centered vertical line to link estimators */\n",
       "  background-image: linear-gradient(var(--sklearn-color-text-on-default-background), var(--sklearn-color-text-on-default-background));\n",
       "  background-size: 2px 100%;\n",
       "  background-repeat: no-repeat;\n",
       "  background-position: center center;\n",
       "}\n",
       "\n",
       "/* Parallel-specific style estimator block */\n",
       "\n",
       "#sk-container-id-7 div.sk-parallel-item::after {\n",
       "  content: \"\";\n",
       "  width: 100%;\n",
       "  border-bottom: 2px solid var(--sklearn-color-text-on-default-background);\n",
       "  flex-grow: 1;\n",
       "}\n",
       "\n",
       "#sk-container-id-7 div.sk-parallel {\n",
       "  display: flex;\n",
       "  align-items: stretch;\n",
       "  justify-content: center;\n",
       "  background-color: var(--sklearn-color-background);\n",
       "  position: relative;\n",
       "}\n",
       "\n",
       "#sk-container-id-7 div.sk-parallel-item {\n",
       "  display: flex;\n",
       "  flex-direction: column;\n",
       "}\n",
       "\n",
       "#sk-container-id-7 div.sk-parallel-item:first-child::after {\n",
       "  align-self: flex-end;\n",
       "  width: 50%;\n",
       "}\n",
       "\n",
       "#sk-container-id-7 div.sk-parallel-item:last-child::after {\n",
       "  align-self: flex-start;\n",
       "  width: 50%;\n",
       "}\n",
       "\n",
       "#sk-container-id-7 div.sk-parallel-item:only-child::after {\n",
       "  width: 0;\n",
       "}\n",
       "\n",
       "/* Serial-specific style estimator block */\n",
       "\n",
       "#sk-container-id-7 div.sk-serial {\n",
       "  display: flex;\n",
       "  flex-direction: column;\n",
       "  align-items: center;\n",
       "  background-color: var(--sklearn-color-background);\n",
       "  padding-right: 1em;\n",
       "  padding-left: 1em;\n",
       "}\n",
       "\n",
       "\n",
       "/* Toggleable style: style used for estimator/Pipeline/ColumnTransformer box that is\n",
       "clickable and can be expanded/collapsed.\n",
       "- Pipeline and ColumnTransformer use this feature and define the default style\n",
       "- Estimators will overwrite some part of the style using the `sk-estimator` class\n",
       "*/\n",
       "\n",
       "/* Pipeline and ColumnTransformer style (default) */\n",
       "\n",
       "#sk-container-id-7 div.sk-toggleable {\n",
       "  /* Default theme specific background. It is overwritten whether we have a\n",
       "  specific estimator or a Pipeline/ColumnTransformer */\n",
       "  background-color: var(--sklearn-color-background);\n",
       "}\n",
       "\n",
       "/* Toggleable label */\n",
       "#sk-container-id-7 label.sk-toggleable__label {\n",
       "  cursor: pointer;\n",
       "  display: block;\n",
       "  width: 100%;\n",
       "  margin-bottom: 0;\n",
       "  padding: 0.5em;\n",
       "  box-sizing: border-box;\n",
       "  text-align: center;\n",
       "}\n",
       "\n",
       "#sk-container-id-7 label.sk-toggleable__label-arrow:before {\n",
       "  /* Arrow on the left of the label */\n",
       "  content: \"▸\";\n",
       "  float: left;\n",
       "  margin-right: 0.25em;\n",
       "  color: var(--sklearn-color-icon);\n",
       "}\n",
       "\n",
       "#sk-container-id-7 label.sk-toggleable__label-arrow:hover:before {\n",
       "  color: var(--sklearn-color-text);\n",
       "}\n",
       "\n",
       "/* Toggleable content - dropdown */\n",
       "\n",
       "#sk-container-id-7 div.sk-toggleable__content {\n",
       "  max-height: 0;\n",
       "  max-width: 0;\n",
       "  overflow: hidden;\n",
       "  text-align: left;\n",
       "  /* unfitted */\n",
       "  background-color: var(--sklearn-color-unfitted-level-0);\n",
       "}\n",
       "\n",
       "#sk-container-id-7 div.sk-toggleable__content.fitted {\n",
       "  /* fitted */\n",
       "  background-color: var(--sklearn-color-fitted-level-0);\n",
       "}\n",
       "\n",
       "#sk-container-id-7 div.sk-toggleable__content pre {\n",
       "  margin: 0.2em;\n",
       "  border-radius: 0.25em;\n",
       "  color: var(--sklearn-color-text);\n",
       "  /* unfitted */\n",
       "  background-color: var(--sklearn-color-unfitted-level-0);\n",
       "}\n",
       "\n",
       "#sk-container-id-7 div.sk-toggleable__content.fitted pre {\n",
       "  /* unfitted */\n",
       "  background-color: var(--sklearn-color-fitted-level-0);\n",
       "}\n",
       "\n",
       "#sk-container-id-7 input.sk-toggleable__control:checked~div.sk-toggleable__content {\n",
       "  /* Expand drop-down */\n",
       "  max-height: 200px;\n",
       "  max-width: 100%;\n",
       "  overflow: auto;\n",
       "}\n",
       "\n",
       "#sk-container-id-7 input.sk-toggleable__control:checked~label.sk-toggleable__label-arrow:before {\n",
       "  content: \"▾\";\n",
       "}\n",
       "\n",
       "/* Pipeline/ColumnTransformer-specific style */\n",
       "\n",
       "#sk-container-id-7 div.sk-label input.sk-toggleable__control:checked~label.sk-toggleable__label {\n",
       "  color: var(--sklearn-color-text);\n",
       "  background-color: var(--sklearn-color-unfitted-level-2);\n",
       "}\n",
       "\n",
       "#sk-container-id-7 div.sk-label.fitted input.sk-toggleable__control:checked~label.sk-toggleable__label {\n",
       "  background-color: var(--sklearn-color-fitted-level-2);\n",
       "}\n",
       "\n",
       "/* Estimator-specific style */\n",
       "\n",
       "/* Colorize estimator box */\n",
       "#sk-container-id-7 div.sk-estimator input.sk-toggleable__control:checked~label.sk-toggleable__label {\n",
       "  /* unfitted */\n",
       "  background-color: var(--sklearn-color-unfitted-level-2);\n",
       "}\n",
       "\n",
       "#sk-container-id-7 div.sk-estimator.fitted input.sk-toggleable__control:checked~label.sk-toggleable__label {\n",
       "  /* fitted */\n",
       "  background-color: var(--sklearn-color-fitted-level-2);\n",
       "}\n",
       "\n",
       "#sk-container-id-7 div.sk-label label.sk-toggleable__label,\n",
       "#sk-container-id-7 div.sk-label label {\n",
       "  /* The background is the default theme color */\n",
       "  color: var(--sklearn-color-text-on-default-background);\n",
       "}\n",
       "\n",
       "/* On hover, darken the color of the background */\n",
       "#sk-container-id-7 div.sk-label:hover label.sk-toggleable__label {\n",
       "  color: var(--sklearn-color-text);\n",
       "  background-color: var(--sklearn-color-unfitted-level-2);\n",
       "}\n",
       "\n",
       "/* Label box, darken color on hover, fitted */\n",
       "#sk-container-id-7 div.sk-label.fitted:hover label.sk-toggleable__label.fitted {\n",
       "  color: var(--sklearn-color-text);\n",
       "  background-color: var(--sklearn-color-fitted-level-2);\n",
       "}\n",
       "\n",
       "/* Estimator label */\n",
       "\n",
       "#sk-container-id-7 div.sk-label label {\n",
       "  font-family: monospace;\n",
       "  font-weight: bold;\n",
       "  display: inline-block;\n",
       "  line-height: 1.2em;\n",
       "}\n",
       "\n",
       "#sk-container-id-7 div.sk-label-container {\n",
       "  text-align: center;\n",
       "}\n",
       "\n",
       "/* Estimator-specific */\n",
       "#sk-container-id-7 div.sk-estimator {\n",
       "  font-family: monospace;\n",
       "  border: 1px dotted var(--sklearn-color-border-box);\n",
       "  border-radius: 0.25em;\n",
       "  box-sizing: border-box;\n",
       "  margin-bottom: 0.5em;\n",
       "  /* unfitted */\n",
       "  background-color: var(--sklearn-color-unfitted-level-0);\n",
       "}\n",
       "\n",
       "#sk-container-id-7 div.sk-estimator.fitted {\n",
       "  /* fitted */\n",
       "  background-color: var(--sklearn-color-fitted-level-0);\n",
       "}\n",
       "\n",
       "/* on hover */\n",
       "#sk-container-id-7 div.sk-estimator:hover {\n",
       "  /* unfitted */\n",
       "  background-color: var(--sklearn-color-unfitted-level-2);\n",
       "}\n",
       "\n",
       "#sk-container-id-7 div.sk-estimator.fitted:hover {\n",
       "  /* fitted */\n",
       "  background-color: var(--sklearn-color-fitted-level-2);\n",
       "}\n",
       "\n",
       "/* Specification for estimator info (e.g. \"i\" and \"?\") */\n",
       "\n",
       "/* Common style for \"i\" and \"?\" */\n",
       "\n",
       ".sk-estimator-doc-link,\n",
       "a:link.sk-estimator-doc-link,\n",
       "a:visited.sk-estimator-doc-link {\n",
       "  float: right;\n",
       "  font-size: smaller;\n",
       "  line-height: 1em;\n",
       "  font-family: monospace;\n",
       "  background-color: var(--sklearn-color-background);\n",
       "  border-radius: 1em;\n",
       "  height: 1em;\n",
       "  width: 1em;\n",
       "  text-decoration: none !important;\n",
       "  margin-left: 1ex;\n",
       "  /* unfitted */\n",
       "  border: var(--sklearn-color-unfitted-level-1) 1pt solid;\n",
       "  color: var(--sklearn-color-unfitted-level-1);\n",
       "}\n",
       "\n",
       ".sk-estimator-doc-link.fitted,\n",
       "a:link.sk-estimator-doc-link.fitted,\n",
       "a:visited.sk-estimator-doc-link.fitted {\n",
       "  /* fitted */\n",
       "  border: var(--sklearn-color-fitted-level-1) 1pt solid;\n",
       "  color: var(--sklearn-color-fitted-level-1);\n",
       "}\n",
       "\n",
       "/* On hover */\n",
       "div.sk-estimator:hover .sk-estimator-doc-link:hover,\n",
       ".sk-estimator-doc-link:hover,\n",
       "div.sk-label-container:hover .sk-estimator-doc-link:hover,\n",
       ".sk-estimator-doc-link:hover {\n",
       "  /* unfitted */\n",
       "  background-color: var(--sklearn-color-unfitted-level-3);\n",
       "  color: var(--sklearn-color-background);\n",
       "  text-decoration: none;\n",
       "}\n",
       "\n",
       "div.sk-estimator.fitted:hover .sk-estimator-doc-link.fitted:hover,\n",
       ".sk-estimator-doc-link.fitted:hover,\n",
       "div.sk-label-container:hover .sk-estimator-doc-link.fitted:hover,\n",
       ".sk-estimator-doc-link.fitted:hover {\n",
       "  /* fitted */\n",
       "  background-color: var(--sklearn-color-fitted-level-3);\n",
       "  color: var(--sklearn-color-background);\n",
       "  text-decoration: none;\n",
       "}\n",
       "\n",
       "/* Span, style for the box shown on hovering the info icon */\n",
       ".sk-estimator-doc-link span {\n",
       "  display: none;\n",
       "  z-index: 9999;\n",
       "  position: relative;\n",
       "  font-weight: normal;\n",
       "  right: .2ex;\n",
       "  padding: .5ex;\n",
       "  margin: .5ex;\n",
       "  width: min-content;\n",
       "  min-width: 20ex;\n",
       "  max-width: 50ex;\n",
       "  color: var(--sklearn-color-text);\n",
       "  box-shadow: 2pt 2pt 4pt #999;\n",
       "  /* unfitted */\n",
       "  background: var(--sklearn-color-unfitted-level-0);\n",
       "  border: .5pt solid var(--sklearn-color-unfitted-level-3);\n",
       "}\n",
       "\n",
       ".sk-estimator-doc-link.fitted span {\n",
       "  /* fitted */\n",
       "  background: var(--sklearn-color-fitted-level-0);\n",
       "  border: var(--sklearn-color-fitted-level-3);\n",
       "}\n",
       "\n",
       ".sk-estimator-doc-link:hover span {\n",
       "  display: block;\n",
       "}\n",
       "\n",
       "/* \"?\"-specific style due to the `<a>` HTML tag */\n",
       "\n",
       "#sk-container-id-7 a.estimator_doc_link {\n",
       "  float: right;\n",
       "  font-size: 1rem;\n",
       "  line-height: 1em;\n",
       "  font-family: monospace;\n",
       "  background-color: var(--sklearn-color-background);\n",
       "  border-radius: 1rem;\n",
       "  height: 1rem;\n",
       "  width: 1rem;\n",
       "  text-decoration: none;\n",
       "  /* unfitted */\n",
       "  color: var(--sklearn-color-unfitted-level-1);\n",
       "  border: var(--sklearn-color-unfitted-level-1) 1pt solid;\n",
       "}\n",
       "\n",
       "#sk-container-id-7 a.estimator_doc_link.fitted {\n",
       "  /* fitted */\n",
       "  border: var(--sklearn-color-fitted-level-1) 1pt solid;\n",
       "  color: var(--sklearn-color-fitted-level-1);\n",
       "}\n",
       "\n",
       "/* On hover */\n",
       "#sk-container-id-7 a.estimator_doc_link:hover {\n",
       "  /* unfitted */\n",
       "  background-color: var(--sklearn-color-unfitted-level-3);\n",
       "  color: var(--sklearn-color-background);\n",
       "  text-decoration: none;\n",
       "}\n",
       "\n",
       "#sk-container-id-7 a.estimator_doc_link.fitted:hover {\n",
       "  /* fitted */\n",
       "  background-color: var(--sklearn-color-fitted-level-3);\n",
       "}\n",
       "</style><div id=\"sk-container-id-7\" class=\"sk-top-container\"><div class=\"sk-text-repr-fallback\"><pre>LGBMClassifier(colsample_bytree=0.743536670511546,\n",
       "               learning_rate=0.05386634492002963, max_depth=1,\n",
       "               min_child_weight=1, reg_alpha=0.302218765422475,\n",
       "               reg_lambda=0.004282006008925868)</pre><b>In a Jupyter environment, please rerun this cell to show the HTML representation or trust the notebook. <br />On GitHub, the HTML representation is unable to render, please try loading this page with nbviewer.org.</b></div><div class=\"sk-container\" hidden><div class=\"sk-item\"><div class=\"sk-estimator fitted sk-toggleable\"><input class=\"sk-toggleable__control sk-hidden--visually\" id=\"sk-estimator-id-7\" type=\"checkbox\" checked><label for=\"sk-estimator-id-7\" class=\"sk-toggleable__label fitted sk-toggleable__label-arrow fitted\">&nbsp;LGBMClassifier<span class=\"sk-estimator-doc-link fitted\">i<span>Fitted</span></span></label><div class=\"sk-toggleable__content fitted\"><pre>LGBMClassifier(colsample_bytree=0.743536670511546,\n",
       "               learning_rate=0.05386634492002963, max_depth=1,\n",
       "               min_child_weight=1, reg_alpha=0.302218765422475,\n",
       "               reg_lambda=0.004282006008925868)</pre></div> </div></div></div></div>"
      ],
      "text/plain": [
       "LGBMClassifier(colsample_bytree=0.743536670511546,\n",
       "               learning_rate=0.05386634492002963, max_depth=1,\n",
       "               min_child_weight=1, reg_alpha=0.302218765422475,\n",
       "               reg_lambda=0.004282006008925868)"
      ]
     },
     "execution_count": 148,
     "metadata": {},
     "output_type": "execute_result"
    }
   ],
   "source": [
    "# lgb.LGBMClassifier()\n",
    "lgbm_clf = lgb.LGBMClassifier(**lgbm_param)\n",
    "lgbm_clf.fit(X_train, y_train)"
   ]
  },
  {
   "cell_type": "code",
   "execution_count": 149,
   "metadata": {},
   "outputs": [
    {
     "name": "stdout",
     "output_type": "stream",
     "text": [
      "Training Set:\n",
      "F1-score: 0.0\n",
      "Accuracy: 0.74975\n",
      "\n",
      "Validation Set:\n",
      "F1-score: 0.0\n",
      "Accuracy: 0.75\n"
     ]
    }
   ],
   "source": [
    "f1_train, accuracy_train, f1_val, accuracy_val = evaluate_model(lgbm_clf, X_train, y_train, X_val, y_val)\n",
    "print(\"Training Set:\")\n",
    "print(\"F1-score:\", f1_train)\n",
    "print(\"Accuracy:\", accuracy_train)\n",
    "print(\"\\nValidation Set:\")\n",
    "print(\"F1-score:\", f1_val)\n",
    "print(\"Accuracy:\", accuracy_val)\n"
   ]
  },
  {
   "cell_type": "code",
   "execution_count": 150,
   "metadata": {},
   "outputs": [
    {
     "data": {
      "image/png": "[encoded data removed]",
      "text/plain": [
       "<Figure size 800x600 with 2 Axes>"
      ]
     },
     "metadata": {},
     "output_type": "display_data"
    }
   ],
   "source": [
    "eval_cm(lgbm_clf,X_train,y_train,X_val,y_val)"
   ]
  },
  {
   "cell_type": "code",
   "execution_count": 151,
   "metadata": {},
   "outputs": [
    {
     "name": "stdout",
     "output_type": "stream",
     "text": [
      "mlops-pharma-usecase-1714655882-2f82\n"
     ]
    }
   ],
   "source": [
    "experiment_name = unique_name_from_base(\"mlops-pharma-usecase\")\n",
    "run_name = \"LGBM-run-v2\"\n",
    "print(experiment_name)"
   ]
  },
  {
   "cell_type": "code",
   "execution_count": 152,
   "metadata": {},
   "outputs": [],
   "source": [
    "# %%time\n",
    "# Create an experiment and start a new run\n",
    "with Run(experiment_name=experiment_name, run_name=run_name, sagemaker_session=Session()) as run:\n",
    "    # Define hyperparameters dictionary\n",
    "    hyperparameters = best_hyperparams\n",
    "\n",
    "    # Log parameters using the hyperparameters dictionary\n",
    "    run.log_parameters(\n",
    "        {\"num_train_samples\": len(X_train),\n",
    "         \"num_test_samples\": len(X_val)}\n",
    "    )\n",
    "    run.log_parameters(hyperparameters)\n",
    "\n",
    "    # Log metrics\n",
    "    run.log_metric(name=\"Train_Accuracy\", value=accuracy_train)\n",
    "    run.log_metric(name=\"Validation_Accuracy\", value=accuracy_val)\n",
    "    run.log_metric(name=\"Train_F1\", value=f1_train)\n",
    "    run.log_metric(name=\"Validation_F1\", value=f1_val)\n",
    "\n",
    "    # run.log_confusion_matrix(y_val,lgbm_clf.predict(X_val),\"Confusion-matrix-validation\")\n",
    "\n",
    "    # Define input artifacts (if needed)\n",
    "    # run.log_file('datasets/input_train.npy', is_output=False)\n",
    "\n",
    "    # Save and log multiple confusion matrices\n",
    "    cm_train_path = '../cm_train.png'\n",
    "    cm_val_path = '../cm_val.png'\n",
    "    auc_roc_path = '../roc_auc.png'\n",
    "\n",
    "    plt.figure(figsize=(8, 6))\n",
    "    sns.heatmap(confusion_matrix(y_train, lgbm_clf.predict(X_train)), annot=True, fmt='d', cmap='Blues', cbar=False)\n",
    "    plt.title('Confusion Matrix (Train)')\n",
    "    plt.tight_layout()\n",
    "    # plt.savefig(cm_train_path)\n",
    "    plt.close()\n",
    "\n",
    "    plt.figure(figsize=(8, 6))\n",
    "    sns.heatmap(confusion_matrix(y_val, lgbm_clf.predict(X_val)), annot=True, fmt='d', cmap='Blues', cbar=False)\n",
    "    plt.title('Confusion Matrix (Validation)')\n",
    "    plt.tight_layout()\n",
    "    # plt.savefig(cm_val_path)\n",
    "    plt.close()\n",
    "\n",
    "    # Compute ROC curve and ROC area\n",
    "    probs = lgbm_clf.predict_proba(X_val)\n",
    "    preds = probs[:,1]\n",
    "    fpr, tpr, threshold = roc_curve(y_val, preds)\n",
    "    roc_auc = auc(fpr, tpr)\n",
    "\n",
    "\n",
    "    # Creating the ROC curve plot\n",
    "    plt.title('Receiver Operating Characteristic')\n",
    "    plt.plot(fpr, tpr, 'b', label = 'AUC_LGBM= %0.2f' % roc_auc)\n",
    "    plt.legend(loc = 'lower right')\n",
    "    plt.plot([0, 1], [0, 1],'r--')\n",
    "    plt.xlim([0, 1])\n",
    "    plt.ylim([0, 1])\n",
    "    plt.ylabel('True Positive Rate')\n",
    "    plt.xlabel('False Positive Rate')\n",
    "    plt.tight_layout()\n",
    "    # plt.savefig(auc_roc_path)\n",
    "    plt.close()\n",
    "\n",
    "    # Log confusion matrix images\n",
    "    # run.log_confusion_matrix(y_train, lgbm_clf.predict(X_train), 'Confusion-Matrix-Train')\n",
    "    run.log_confusion_matrix(y_val, lgbm_clf.predict(X_val), 'Confusion-Matrix-Validation')\n",
    "\n",
    "    # Log confusion matrix images as artifacts\n",
    "    run.log_file(cm_train_path, is_output = False)\n",
    "    run.log_file(cm_val_path,  is_output = False)\n",
    "    run.log_file(auc_roc_path,  is_output = False)\n"
   ]
  },
  {
   "cell_type": "markdown",
   "metadata": {},
   "source": []
  },
  {
   "cell_type": "markdown",
   "metadata": {},
   "source": [
    "### Classifier 2 - XGB Classifier\n"
   ]
  },
  {
   "cell_type": "code",
   "execution_count": 153,
   "metadata": {},
   "outputs": [],
   "source": [
    "space = {\n",
    "    \"max_depth\": hp.quniform(\"max_depth\", 3, 8, 1),  # Uniformly sample from integers between 3 and 20\n",
    "    \"gamma\": hp.uniform(\"gamma\", 0, 0.0005),  # Uniformly sample from a continuous range between 0 and 0.0005\n",
    "    \"subsample\": hp.uniform(\"subsample\", 0.1, 1),  # Uniformly sample from a continuous range between 0.1 and 1\n",
    "    \"colsample_bytree\": 0.8011137517906433,  # Keep this value fixed\n",
    "    \"reg_alpha\": hp.uniform(\"reg_alpha\", np.log(10), np.log(100)),  # Log-uniform sampling between log(0.01) and log(1)\n",
    "}\n"
   ]
  },
  {
   "cell_type": "code",
   "execution_count": 154,
   "metadata": {},
   "outputs": [
    {
     "name": "stdout",
     "output_type": "stream",
     "text": [
      "  0%|          | 0/30 [00:00<?, ?trial/s, best loss=?]"
     ]
    },
    {
     "name": "stderr",
     "output_type": "stream",
     "text": [
      "INFO:hyperopt.tpe:build_posterior_wrapper took 0.001199 seconds\n",
      "INFO:hyperopt.tpe:TPE using 0 trials\n"
     ]
    },
    {
     "name": "stdout",
     "output_type": "stream",
     "text": [
      "  3%|▎         | 1/30 [00:01<00:33,  1.15s/trial, best loss: -0.6284584980237155]"
     ]
    },
    {
     "name": "stderr",
     "output_type": "stream",
     "text": [
      "INFO:hyperopt.tpe:build_posterior_wrapper took 0.002180 seconds\n",
      "INFO:hyperopt.tpe:TPE using 1/1 trials with best loss -0.628458\n"
     ]
    },
    {
     "name": "stdout",
     "output_type": "stream",
     "text": [
      "  7%|▋         | 2/30 [00:02<00:27,  1.01trial/s, best loss: -0.6284584980237155]"
     ]
    },
    {
     "name": "stderr",
     "output_type": "stream",
     "text": [
      "INFO:hyperopt.tpe:build_posterior_wrapper took 0.001974 seconds\n",
      "INFO:hyperopt.tpe:TPE using 2/2 trials with best loss -0.628458\n"
     ]
    },
    {
     "name": "stdout",
     "output_type": "stream",
     "text": [
      " 10%|█         | 3/30 [00:02<00:25,  1.06trial/s, best loss: -0.640625]          "
     ]
    },
    {
     "name": "stderr",
     "output_type": "stream",
     "text": [
      "INFO:hyperopt.tpe:build_posterior_wrapper took 0.002518 seconds\n",
      "INFO:hyperopt.tpe:TPE using 3/3 trials with best loss -0.640625\n"
     ]
    },
    {
     "name": "stdout",
     "output_type": "stream",
     "text": [
      " 13%|█▎        | 4/30 [00:04<00:26,  1.01s/trial, best loss: -0.640625]"
     ]
    },
    {
     "name": "stderr",
     "output_type": "stream",
     "text": [
      "INFO:hyperopt.tpe:build_posterior_wrapper took 0.002546 seconds\n",
      "INFO:hyperopt.tpe:TPE using 4/4 trials with best loss -0.640625\n"
     ]
    },
    {
     "name": "stdout",
     "output_type": "stream",
     "text": [
      " 17%|█▋        | 5/30 [00:04<00:21,  1.16trial/s, best loss: -0.640625]"
     ]
    },
    {
     "name": "stderr",
     "output_type": "stream",
     "text": [
      "INFO:hyperopt.tpe:build_posterior_wrapper took 0.002072 seconds\n",
      "INFO:hyperopt.tpe:TPE using 5/5 trials with best loss -0.640625\n"
     ]
    },
    {
     "name": "stdout",
     "output_type": "stream",
     "text": [
      " 20%|██        | 6/30 [00:05<00:20,  1.16trial/s, best loss: -0.640625]"
     ]
    },
    {
     "name": "stderr",
     "output_type": "stream",
     "text": [
      "INFO:hyperopt.tpe:build_posterior_wrapper took 0.003402 seconds\n",
      "INFO:hyperopt.tpe:TPE using 6/6 trials with best loss -0.640625\n"
     ]
    },
    {
     "name": "stdout",
     "output_type": "stream",
     "text": [
      " 23%|██▎       | 7/30 [00:06<00:20,  1.13trial/s, best loss: -0.640625]"
     ]
    },
    {
     "name": "stderr",
     "output_type": "stream",
     "text": [
      "INFO:hyperopt.tpe:build_posterior_wrapper took 0.002574 seconds\n",
      "INFO:hyperopt.tpe:TPE using 7/7 trials with best loss -0.640625\n"
     ]
    },
    {
     "name": "stdout",
     "output_type": "stream",
     "text": [
      " 27%|██▋       | 8/30 [00:06<00:16,  1.32trial/s, best loss: -0.640625]"
     ]
    },
    {
     "name": "stderr",
     "output_type": "stream",
     "text": [
      "INFO:hyperopt.tpe:build_posterior_wrapper took 0.001909 seconds\n",
      "INFO:hyperopt.tpe:TPE using 8/8 trials with best loss -0.640625\n"
     ]
    },
    {
     "name": "stdout",
     "output_type": "stream",
     "text": [
      " 30%|███       | 9/30 [00:07<00:16,  1.28trial/s, best loss: -0.640625]"
     ]
    },
    {
     "name": "stderr",
     "output_type": "stream",
     "text": [
      "INFO:hyperopt.tpe:build_posterior_wrapper took 0.002065 seconds\n",
      "INFO:hyperopt.tpe:TPE using 9/9 trials with best loss -0.640625\n"
     ]
    },
    {
     "name": "stdout",
     "output_type": "stream",
     "text": [
      " 33%|███▎      | 10/30 [00:08<00:15,  1.33trial/s, best loss: -0.640625]"
     ]
    },
    {
     "name": "stderr",
     "output_type": "stream",
     "text": [
      "INFO:hyperopt.tpe:build_posterior_wrapper took 0.002298 seconds\n",
      "INFO:hyperopt.tpe:TPE using 10/10 trials with best loss -0.640625\n"
     ]
    },
    {
     "name": "stdout",
     "output_type": "stream",
     "text": [
      " 37%|███▋      | 11/30 [00:09<00:15,  1.22trial/s, best loss: -0.6600790513833992]"
     ]
    },
    {
     "name": "stderr",
     "output_type": "stream",
     "text": [
      "INFO:hyperopt.tpe:build_posterior_wrapper took 0.001858 seconds\n",
      "INFO:hyperopt.tpe:TPE using 11/11 trials with best loss -0.660079\n"
     ]
    },
    {
     "name": "stdout",
     "output_type": "stream",
     "text": [
      " 40%|████      | 12/30 [00:09<00:12,  1.44trial/s, best loss: -0.6600790513833992]"
     ]
    },
    {
     "name": "stderr",
     "output_type": "stream",
     "text": [
      "INFO:hyperopt.tpe:build_posterior_wrapper took 0.002053 seconds\n",
      "INFO:hyperopt.tpe:TPE using 12/12 trials with best loss -0.660079\n"
     ]
    },
    {
     "name": "stdout",
     "output_type": "stream",
     "text": [
      " 43%|████▎     | 13/30 [00:10<00:12,  1.36trial/s, best loss: -0.6600790513833992]"
     ]
    },
    {
     "name": "stderr",
     "output_type": "stream",
     "text": [
      "INFO:hyperopt.tpe:build_posterior_wrapper took 0.003033 seconds\n",
      "INFO:hyperopt.tpe:TPE using 13/13 trials with best loss -0.660079\n"
     ]
    },
    {
     "name": "stdout",
     "output_type": "stream",
     "text": [
      " 47%|████▋     | 14/30 [00:11<00:11,  1.43trial/s, best loss: -0.66015625]        "
     ]
    },
    {
     "name": "stderr",
     "output_type": "stream",
     "text": [
      "INFO:hyperopt.tpe:build_posterior_wrapper took 0.002226 seconds\n",
      "INFO:hyperopt.tpe:TPE using 14/14 trials with best loss -0.660156\n"
     ]
    },
    {
     "name": "stdout",
     "output_type": "stream",
     "text": [
      " 50%|█████     | 15/30 [00:11<00:10,  1.45trial/s, best loss: -0.6626746506986028]"
     ]
    },
    {
     "name": "stderr",
     "output_type": "stream",
     "text": [
      "INFO:hyperopt.tpe:build_posterior_wrapper took 0.002580 seconds\n",
      "INFO:hyperopt.tpe:TPE using 15/15 trials with best loss -0.662675\n"
     ]
    },
    {
     "name": "stdout",
     "output_type": "stream",
     "text": [
      " 53%|█████▎    | 16/30 [00:12<00:09,  1.50trial/s, best loss: -0.6626746506986028]"
     ]
    },
    {
     "name": "stderr",
     "output_type": "stream",
     "text": [
      "INFO:hyperopt.tpe:build_posterior_wrapper took 0.002272 seconds\n",
      "INFO:hyperopt.tpe:TPE using 16/16 trials with best loss -0.662675\n"
     ]
    },
    {
     "name": "stdout",
     "output_type": "stream",
     "text": [
      " 57%|█████▋    | 17/30 [00:13<00:10,  1.26trial/s, best loss: -0.6626746506986028]"
     ]
    },
    {
     "name": "stderr",
     "output_type": "stream",
     "text": [
      "INFO:hyperopt.tpe:build_posterior_wrapper took 0.002913 seconds\n",
      "INFO:hyperopt.tpe:TPE using 17/17 trials with best loss -0.662675\n"
     ]
    },
    {
     "name": "stdout",
     "output_type": "stream",
     "text": [
      " 60%|██████    | 18/30 [00:14<00:11,  1.07trial/s, best loss: -0.6626746506986028]"
     ]
    },
    {
     "name": "stderr",
     "output_type": "stream",
     "text": [
      "INFO:hyperopt.tpe:build_posterior_wrapper took 0.002202 seconds\n",
      "INFO:hyperopt.tpe:TPE using 18/18 trials with best loss -0.662675\n"
     ]
    },
    {
     "name": "stdout",
     "output_type": "stream",
     "text": [
      " 63%|██████▎   | 19/30 [00:15<00:10,  1.08trial/s, best loss: -0.6626746506986028]"
     ]
    },
    {
     "name": "stderr",
     "output_type": "stream",
     "text": [
      "INFO:hyperopt.tpe:build_posterior_wrapper took 0.002021 seconds\n",
      "INFO:hyperopt.tpe:TPE using 19/19 trials with best loss -0.662675\n"
     ]
    },
    {
     "name": "stdout",
     "output_type": "stream",
     "text": [
      " 67%|██████▋   | 20/30 [00:16<00:09,  1.03trial/s, best loss: -0.6626746506986028]"
     ]
    },
    {
     "name": "stderr",
     "output_type": "stream",
     "text": [
      "INFO:hyperopt.tpe:build_posterior_wrapper took 0.007428 seconds\n",
      "INFO:hyperopt.tpe:TPE using 20/20 trials with best loss -0.662675\n"
     ]
    },
    {
     "name": "stdout",
     "output_type": "stream",
     "text": [
      " 70%|███████   | 21/30 [00:17<00:07,  1.21trial/s, best loss: -0.6679611650485436]"
     ]
    },
    {
     "name": "stderr",
     "output_type": "stream",
     "text": [
      "INFO:hyperopt.tpe:build_posterior_wrapper took 0.003402 seconds\n",
      "INFO:hyperopt.tpe:TPE using 21/21 trials with best loss -0.667961\n"
     ]
    },
    {
     "name": "stdout",
     "output_type": "stream",
     "text": [
      " 73%|███████▎  | 22/30 [00:17<00:05,  1.38trial/s, best loss: -0.6757281553398058]"
     ]
    },
    {
     "name": "stderr",
     "output_type": "stream",
     "text": [
      "INFO:hyperopt.tpe:build_posterior_wrapper took 0.002371 seconds\n",
      "INFO:hyperopt.tpe:TPE using 22/22 trials with best loss -0.675728\n"
     ]
    },
    {
     "name": "stdout",
     "output_type": "stream",
     "text": [
      " 77%|███████▋  | 23/30 [00:18<00:04,  1.52trial/s, best loss: -0.6757281553398058]"
     ]
    },
    {
     "name": "stderr",
     "output_type": "stream",
     "text": [
      "INFO:hyperopt.tpe:build_posterior_wrapper took 0.002450 seconds\n",
      "INFO:hyperopt.tpe:TPE using 23/23 trials with best loss -0.675728\n"
     ]
    },
    {
     "name": "stdout",
     "output_type": "stream",
     "text": [
      " 80%|████████  | 24/30 [00:18<00:03,  1.60trial/s, best loss: -0.6757281553398058]"
     ]
    },
    {
     "name": "stderr",
     "output_type": "stream",
     "text": [
      "INFO:hyperopt.tpe:build_posterior_wrapper took 0.002660 seconds\n",
      "INFO:hyperopt.tpe:TPE using 24/24 trials with best loss -0.675728\n"
     ]
    },
    {
     "name": "stdout",
     "output_type": "stream",
     "text": [
      " 83%|████████▎ | 25/30 [00:19<00:02,  1.72trial/s, best loss: -0.6782273603082851]"
     ]
    },
    {
     "name": "stderr",
     "output_type": "stream",
     "text": [
      "INFO:hyperopt.tpe:build_posterior_wrapper took 0.002873 seconds\n",
      "INFO:hyperopt.tpe:TPE using 25/25 trials with best loss -0.678227\n"
     ]
    },
    {
     "name": "stdout",
     "output_type": "stream",
     "text": [
      " 87%|████████▋ | 26/30 [00:19<00:02,  1.78trial/s, best loss: -0.6782273603082851]"
     ]
    },
    {
     "name": "stderr",
     "output_type": "stream",
     "text": [
      "INFO:hyperopt.tpe:build_posterior_wrapper took 0.002012 seconds\n",
      "INFO:hyperopt.tpe:TPE using 26/26 trials with best loss -0.678227\n"
     ]
    },
    {
     "name": "stdout",
     "output_type": "stream",
     "text": [
      " 90%|█████████ | 27/30 [00:20<00:01,  1.92trial/s, best loss: -0.6782273603082851]"
     ]
    },
    {
     "name": "stderr",
     "output_type": "stream",
     "text": [
      "INFO:hyperopt.tpe:build_posterior_wrapper took 0.002339 seconds\n",
      "INFO:hyperopt.tpe:TPE using 27/27 trials with best loss -0.678227\n"
     ]
    },
    {
     "name": "stdout",
     "output_type": "stream",
     "text": [
      " 93%|█████████▎| 28/30 [00:21<00:01,  1.66trial/s, best loss: -0.6782273603082851]"
     ]
    },
    {
     "name": "stderr",
     "output_type": "stream",
     "text": [
      "INFO:hyperopt.tpe:build_posterior_wrapper took 0.004180 seconds\n",
      "INFO:hyperopt.tpe:TPE using 28/28 trials with best loss -0.678227\n"
     ]
    },
    {
     "name": "stdout",
     "output_type": "stream",
     "text": [
      " 97%|█████████▋| 29/30 [00:21<00:00,  1.70trial/s, best loss: -0.6950092421441775]"
     ]
    },
    {
     "name": "stderr",
     "output_type": "stream",
     "text": [
      "INFO:hyperopt.tpe:build_posterior_wrapper took 0.004725 seconds\n",
      "INFO:hyperopt.tpe:TPE using 29/29 trials with best loss -0.695009\n"
     ]
    },
    {
     "name": "stdout",
     "output_type": "stream",
     "text": [
      "100%|██████████| 30/30 [00:22<00:00,  1.34trial/s, best loss: -0.6950092421441775]\n"
     ]
    }
   ],
   "source": [
    "def train_evaluate(params):\n",
    "    # Create an XGBoost model\n",
    "    params[\"max_depth\"] = int(params[\"max_depth\"])\n",
    "    model = xgb.XGBClassifier(**params, random_state=321)\n",
    "    \n",
    "    # Train the model\n",
    "    model.fit(X_train, y_train)\n",
    "    \n",
    "    # Evaluate the model\n",
    "    y_pred = model.predict(X_val)\n",
    "    score = f1_score(y_val, y_pred)\n",
    "    \n",
    "    return -score  # Minimize the negative of F1-score\n",
    "\n",
    "# Initialize Trials for hyperparameter optimization\n",
    "trials = Trials()\n",
    "\n",
    "# Use Hyperopt to search for the best hyperparameters\n",
    "best_xgb_param = fmin(fn=train_evaluate, space=space, algo=tpe.suggest, max_evals=30)"
   ]
  },
  {
   "cell_type": "code",
   "execution_count": 155,
   "metadata": {},
   "outputs": [
    {
     "name": "stdout",
     "output_type": "stream",
     "text": [
      "{'gamma': 5.0047259779731584e-05, 'max_depth': 3.0, 'reg_alpha': 2.317446179380346, 'subsample': 0.9971173939476404}\n"
     ]
    }
   ],
   "source": [
    "print(best_xgb_param)"
   ]
  },
  {
   "cell_type": "code",
   "execution_count": 156,
   "metadata": {},
   "outputs": [],
   "source": [
    "# Extract the best hyperparameters from the search results\n",
    "best_hyperparams = {\n",
    "    'subsample': float(best_xgb_param['subsample']),\n",
    "    'max_depth': int(best_xgb_param['max_depth']),\n",
    "    'reg_alpha': float(best_xgb_param['reg_alpha']),\n",
    "    'gamma': float(best_xgb_param['gamma'])\n",
    "}"
   ]
  },
  {
   "cell_type": "code",
   "execution_count": 157,
   "metadata": {},
   "outputs": [
    {
     "data": {
      "text/html": [
       "<style>#sk-container-id-8 {\n",
       "  /* Definition of color scheme common for light and dark mode */\n",
       "  --sklearn-color-text: black;\n",
       "  --sklearn-color-line: gray;\n",
       "  /* Definition of color scheme for unfitted estimators */\n",
       "  --sklearn-color-unfitted-level-0: #fff5e6;\n",
       "  --sklearn-color-unfitted-level-1: #f6e4d2;\n",
       "  --sklearn-color-unfitted-level-2: #ffe0b3;\n",
       "  --sklearn-color-unfitted-level-3: chocolate;\n",
       "  /* Definition of color scheme for fitted estimators */\n",
       "  --sklearn-color-fitted-level-0: #f0f8ff;\n",
       "  --sklearn-color-fitted-level-1: #d4ebff;\n",
       "  --sklearn-color-fitted-level-2: #b3dbfd;\n",
       "  --sklearn-color-fitted-level-3: cornflowerblue;\n",
       "\n",
       "  /* Specific color for light theme */\n",
       "  --sklearn-color-text-on-default-background: var(--sg-text-color, var(--theme-code-foreground, var(--jp-content-font-color1, black)));\n",
       "  --sklearn-color-background: var(--sg-background-color, var(--theme-background, var(--jp-layout-color0, white)));\n",
       "  --sklearn-color-border-box: var(--sg-text-color, var(--theme-code-foreground, var(--jp-content-font-color1, black)));\n",
       "  --sklearn-color-icon: #696969;\n",
       "\n",
       "  @media (prefers-color-scheme: dark) {\n",
       "    /* Redefinition of color scheme for dark theme */\n",
       "    --sklearn-color-text-on-default-background: var(--sg-text-color, var(--theme-code-foreground, var(--jp-content-font-color1, white)));\n",
       "    --sklearn-color-background: var(--sg-background-color, var(--theme-background, var(--jp-layout-color0, #111)));\n",
       "    --sklearn-color-border-box: var(--sg-text-color, var(--theme-code-foreground, var(--jp-content-font-color1, white)));\n",
       "    --sklearn-color-icon: #878787;\n",
       "  }\n",
       "}\n",
       "\n",
       "#sk-container-id-8 {\n",
       "  color: var(--sklearn-color-text);\n",
       "}\n",
       "\n",
       "#sk-container-id-8 pre {\n",
       "  padding: 0;\n",
       "}\n",
       "\n",
       "#sk-container-id-8 input.sk-hidden--visually {\n",
       "  border: 0;\n",
       "  clip: rect(1px 1px 1px 1px);\n",
       "  clip: rect(1px, 1px, 1px, 1px);\n",
       "  height: 1px;\n",
       "  margin: -1px;\n",
       "  overflow: hidden;\n",
       "  padding: 0;\n",
       "  position: absolute;\n",
       "  width: 1px;\n",
       "}\n",
       "\n",
       "#sk-container-id-8 div.sk-dashed-wrapped {\n",
       "  border: 1px dashed var(--sklearn-color-line);\n",
       "  margin: 0 0.4em 0.5em 0.4em;\n",
       "  box-sizing: border-box;\n",
       "  padding-bottom: 0.4em;\n",
       "  background-color: var(--sklearn-color-background);\n",
       "}\n",
       "\n",
       "#sk-container-id-8 div.sk-container {\n",
       "  /* jupyter's `normalize.less` sets `[hidden] { display: none; }`\n",
       "     but bootstrap.min.css set `[hidden] { display: none !important; }`\n",
       "     so we also need the `!important` here to be able to override the\n",
       "     default hidden behavior on the sphinx rendered scikit-learn.org.\n",
       "     See: https://github.com/scikit-learn/scikit-learn/issues/21755 */\n",
       "  display: inline-block !important;\n",
       "  position: relative;\n",
       "}\n",
       "\n",
       "#sk-container-id-8 div.sk-text-repr-fallback {\n",
       "  display: none;\n",
       "}\n",
       "\n",
       "div.sk-parallel-item,\n",
       "div.sk-serial,\n",
       "div.sk-item {\n",
       "  /* draw centered vertical line to link estimators */\n",
       "  background-image: linear-gradient(var(--sklearn-color-text-on-default-background), var(--sklearn-color-text-on-default-background));\n",
       "  background-size: 2px 100%;\n",
       "  background-repeat: no-repeat;\n",
       "  background-position: center center;\n",
       "}\n",
       "\n",
       "/* Parallel-specific style estimator block */\n",
       "\n",
       "#sk-container-id-8 div.sk-parallel-item::after {\n",
       "  content: \"\";\n",
       "  width: 100%;\n",
       "  border-bottom: 2px solid var(--sklearn-color-text-on-default-background);\n",
       "  flex-grow: 1;\n",
       "}\n",
       "\n",
       "#sk-container-id-8 div.sk-parallel {\n",
       "  display: flex;\n",
       "  align-items: stretch;\n",
       "  justify-content: center;\n",
       "  background-color: var(--sklearn-color-background);\n",
       "  position: relative;\n",
       "}\n",
       "\n",
       "#sk-container-id-8 div.sk-parallel-item {\n",
       "  display: flex;\n",
       "  flex-direction: column;\n",
       "}\n",
       "\n",
       "#sk-container-id-8 div.sk-parallel-item:first-child::after {\n",
       "  align-self: flex-end;\n",
       "  width: 50%;\n",
       "}\n",
       "\n",
       "#sk-container-id-8 div.sk-parallel-item:last-child::after {\n",
       "  align-self: flex-start;\n",
       "  width: 50%;\n",
       "}\n",
       "\n",
       "#sk-container-id-8 div.sk-parallel-item:only-child::after {\n",
       "  width: 0;\n",
       "}\n",
       "\n",
       "/* Serial-specific style estimator block */\n",
       "\n",
       "#sk-container-id-8 div.sk-serial {\n",
       "  display: flex;\n",
       "  flex-direction: column;\n",
       "  align-items: center;\n",
       "  background-color: var(--sklearn-color-background);\n",
       "  padding-right: 1em;\n",
       "  padding-left: 1em;\n",
       "}\n",
       "\n",
       "\n",
       "/* Toggleable style: style used for estimator/Pipeline/ColumnTransformer box that is\n",
       "clickable and can be expanded/collapsed.\n",
       "- Pipeline and ColumnTransformer use this feature and define the default style\n",
       "- Estimators will overwrite some part of the style using the `sk-estimator` class\n",
       "*/\n",
       "\n",
       "/* Pipeline and ColumnTransformer style (default) */\n",
       "\n",
       "#sk-container-id-8 div.sk-toggleable {\n",
       "  /* Default theme specific background. It is overwritten whether we have a\n",
       "  specific estimator or a Pipeline/ColumnTransformer */\n",
       "  background-color: var(--sklearn-color-background);\n",
       "}\n",
       "\n",
       "/* Toggleable label */\n",
       "#sk-container-id-8 label.sk-toggleable__label {\n",
       "  cursor: pointer;\n",
       "  display: block;\n",
       "  width: 100%;\n",
       "  margin-bottom: 0;\n",
       "  padding: 0.5em;\n",
       "  box-sizing: border-box;\n",
       "  text-align: center;\n",
       "}\n",
       "\n",
       "#sk-container-id-8 label.sk-toggleable__label-arrow:before {\n",
       "  /* Arrow on the left of the label */\n",
       "  content: \"▸\";\n",
       "  float: left;\n",
       "  margin-right: 0.25em;\n",
       "  color: var(--sklearn-color-icon);\n",
       "}\n",
       "\n",
       "#sk-container-id-8 label.sk-toggleable__label-arrow:hover:before {\n",
       "  color: var(--sklearn-color-text);\n",
       "}\n",
       "\n",
       "/* Toggleable content - dropdown */\n",
       "\n",
       "#sk-container-id-8 div.sk-toggleable__content {\n",
       "  max-height: 0;\n",
       "  max-width: 0;\n",
       "  overflow: hidden;\n",
       "  text-align: left;\n",
       "  /* unfitted */\n",
       "  background-color: var(--sklearn-color-unfitted-level-0);\n",
       "}\n",
       "\n",
       "#sk-container-id-8 div.sk-toggleable__content.fitted {\n",
       "  /* fitted */\n",
       "  background-color: var(--sklearn-color-fitted-level-0);\n",
       "}\n",
       "\n",
       "#sk-container-id-8 div.sk-toggleable__content pre {\n",
       "  margin: 0.2em;\n",
       "  border-radius: 0.25em;\n",
       "  color: var(--sklearn-color-text);\n",
       "  /* unfitted */\n",
       "  background-color: var(--sklearn-color-unfitted-level-0);\n",
       "}\n",
       "\n",
       "#sk-container-id-8 div.sk-toggleable__content.fitted pre {\n",
       "  /* unfitted */\n",
       "  background-color: var(--sklearn-color-fitted-level-0);\n",
       "}\n",
       "\n",
       "#sk-container-id-8 input.sk-toggleable__control:checked~div.sk-toggleable__content {\n",
       "  /* Expand drop-down */\n",
       "  max-height: 200px;\n",
       "  max-width: 100%;\n",
       "  overflow: auto;\n",
       "}\n",
       "\n",
       "#sk-container-id-8 input.sk-toggleable__control:checked~label.sk-toggleable__label-arrow:before {\n",
       "  content: \"▾\";\n",
       "}\n",
       "\n",
       "/* Pipeline/ColumnTransformer-specific style */\n",
       "\n",
       "#sk-container-id-8 div.sk-label input.sk-toggleable__control:checked~label.sk-toggleable__label {\n",
       "  color: var(--sklearn-color-text);\n",
       "  background-color: var(--sklearn-color-unfitted-level-2);\n",
       "}\n",
       "\n",
       "#sk-container-id-8 div.sk-label.fitted input.sk-toggleable__control:checked~label.sk-toggleable__label {\n",
       "  background-color: var(--sklearn-color-fitted-level-2);\n",
       "}\n",
       "\n",
       "/* Estimator-specific style */\n",
       "\n",
       "/* Colorize estimator box */\n",
       "#sk-container-id-8 div.sk-estimator input.sk-toggleable__control:checked~label.sk-toggleable__label {\n",
       "  /* unfitted */\n",
       "  background-color: var(--sklearn-color-unfitted-level-2);\n",
       "}\n",
       "\n",
       "#sk-container-id-8 div.sk-estimator.fitted input.sk-toggleable__control:checked~label.sk-toggleable__label {\n",
       "  /* fitted */\n",
       "  background-color: var(--sklearn-color-fitted-level-2);\n",
       "}\n",
       "\n",
       "#sk-container-id-8 div.sk-label label.sk-toggleable__label,\n",
       "#sk-container-id-8 div.sk-label label {\n",
       "  /* The background is the default theme color */\n",
       "  color: var(--sklearn-color-text-on-default-background);\n",
       "}\n",
       "\n",
       "/* On hover, darken the color of the background */\n",
       "#sk-container-id-8 div.sk-label:hover label.sk-toggleable__label {\n",
       "  color: var(--sklearn-color-text);\n",
       "  background-color: var(--sklearn-color-unfitted-level-2);\n",
       "}\n",
       "\n",
       "/* Label box, darken color on hover, fitted */\n",
       "#sk-container-id-8 div.sk-label.fitted:hover label.sk-toggleable__label.fitted {\n",
       "  color: var(--sklearn-color-text);\n",
       "  background-color: var(--sklearn-color-fitted-level-2);\n",
       "}\n",
       "\n",
       "/* Estimator label */\n",
       "\n",
       "#sk-container-id-8 div.sk-label label {\n",
       "  font-family: monospace;\n",
       "  font-weight: bold;\n",
       "  display: inline-block;\n",
       "  line-height: 1.2em;\n",
       "}\n",
       "\n",
       "#sk-container-id-8 div.sk-label-container {\n",
       "  text-align: center;\n",
       "}\n",
       "\n",
       "/* Estimator-specific */\n",
       "#sk-container-id-8 div.sk-estimator {\n",
       "  font-family: monospace;\n",
       "  border: 1px dotted var(--sklearn-color-border-box);\n",
       "  border-radius: 0.25em;\n",
       "  box-sizing: border-box;\n",
       "  margin-bottom: 0.5em;\n",
       "  /* unfitted */\n",
       "  background-color: var(--sklearn-color-unfitted-level-0);\n",
       "}\n",
       "\n",
       "#sk-container-id-8 div.sk-estimator.fitted {\n",
       "  /* fitted */\n",
       "  background-color: var(--sklearn-color-fitted-level-0);\n",
       "}\n",
       "\n",
       "/* on hover */\n",
       "#sk-container-id-8 div.sk-estimator:hover {\n",
       "  /* unfitted */\n",
       "  background-color: var(--sklearn-color-unfitted-level-2);\n",
       "}\n",
       "\n",
       "#sk-container-id-8 div.sk-estimator.fitted:hover {\n",
       "  /* fitted */\n",
       "  background-color: var(--sklearn-color-fitted-level-2);\n",
       "}\n",
       "\n",
       "/* Specification for estimator info (e.g. \"i\" and \"?\") */\n",
       "\n",
       "/* Common style for \"i\" and \"?\" */\n",
       "\n",
       ".sk-estimator-doc-link,\n",
       "a:link.sk-estimator-doc-link,\n",
       "a:visited.sk-estimator-doc-link {\n",
       "  float: right;\n",
       "  font-size: smaller;\n",
       "  line-height: 1em;\n",
       "  font-family: monospace;\n",
       "  background-color: var(--sklearn-color-background);\n",
       "  border-radius: 1em;\n",
       "  height: 1em;\n",
       "  width: 1em;\n",
       "  text-decoration: none !important;\n",
       "  margin-left: 1ex;\n",
       "  /* unfitted */\n",
       "  border: var(--sklearn-color-unfitted-level-1) 1pt solid;\n",
       "  color: var(--sklearn-color-unfitted-level-1);\n",
       "}\n",
       "\n",
       ".sk-estimator-doc-link.fitted,\n",
       "a:link.sk-estimator-doc-link.fitted,\n",
       "a:visited.sk-estimator-doc-link.fitted {\n",
       "  /* fitted */\n",
       "  border: var(--sklearn-color-fitted-level-1) 1pt solid;\n",
       "  color: var(--sklearn-color-fitted-level-1);\n",
       "}\n",
       "\n",
       "/* On hover */\n",
       "div.sk-estimator:hover .sk-estimator-doc-link:hover,\n",
       ".sk-estimator-doc-link:hover,\n",
       "div.sk-label-container:hover .sk-estimator-doc-link:hover,\n",
       ".sk-estimator-doc-link:hover {\n",
       "  /* unfitted */\n",
       "  background-color: var(--sklearn-color-unfitted-level-3);\n",
       "  color: var(--sklearn-color-background);\n",
       "  text-decoration: none;\n",
       "}\n",
       "\n",
       "div.sk-estimator.fitted:hover .sk-estimator-doc-link.fitted:hover,\n",
       ".sk-estimator-doc-link.fitted:hover,\n",
       "div.sk-label-container:hover .sk-estimator-doc-link.fitted:hover,\n",
       ".sk-estimator-doc-link.fitted:hover {\n",
       "  /* fitted */\n",
       "  background-color: var(--sklearn-color-fitted-level-3);\n",
       "  color: var(--sklearn-color-background);\n",
       "  text-decoration: none;\n",
       "}\n",
       "\n",
       "/* Span, style for the box shown on hovering the info icon */\n",
       ".sk-estimator-doc-link span {\n",
       "  display: none;\n",
       "  z-index: 9999;\n",
       "  position: relative;\n",
       "  font-weight: normal;\n",
       "  right: .2ex;\n",
       "  padding: .5ex;\n",
       "  margin: .5ex;\n",
       "  width: min-content;\n",
       "  min-width: 20ex;\n",
       "  max-width: 50ex;\n",
       "  color: var(--sklearn-color-text);\n",
       "  box-shadow: 2pt 2pt 4pt #999;\n",
       "  /* unfitted */\n",
       "  background: var(--sklearn-color-unfitted-level-0);\n",
       "  border: .5pt solid var(--sklearn-color-unfitted-level-3);\n",
       "}\n",
       "\n",
       ".sk-estimator-doc-link.fitted span {\n",
       "  /* fitted */\n",
       "  background: var(--sklearn-color-fitted-level-0);\n",
       "  border: var(--sklearn-color-fitted-level-3);\n",
       "}\n",
       "\n",
       ".sk-estimator-doc-link:hover span {\n",
       "  display: block;\n",
       "}\n",
       "\n",
       "/* \"?\"-specific style due to the `<a>` HTML tag */\n",
       "\n",
       "#sk-container-id-8 a.estimator_doc_link {\n",
       "  float: right;\n",
       "  font-size: 1rem;\n",
       "  line-height: 1em;\n",
       "  font-family: monospace;\n",
       "  background-color: var(--sklearn-color-background);\n",
       "  border-radius: 1rem;\n",
       "  height: 1rem;\n",
       "  width: 1rem;\n",
       "  text-decoration: none;\n",
       "  /* unfitted */\n",
       "  color: var(--sklearn-color-unfitted-level-1);\n",
       "  border: var(--sklearn-color-unfitted-level-1) 1pt solid;\n",
       "}\n",
       "\n",
       "#sk-container-id-8 a.estimator_doc_link.fitted {\n",
       "  /* fitted */\n",
       "  border: var(--sklearn-color-fitted-level-1) 1pt solid;\n",
       "  color: var(--sklearn-color-fitted-level-1);\n",
       "}\n",
       "\n",
       "/* On hover */\n",
       "#sk-container-id-8 a.estimator_doc_link:hover {\n",
       "  /* unfitted */\n",
       "  background-color: var(--sklearn-color-unfitted-level-3);\n",
       "  color: var(--sklearn-color-background);\n",
       "  text-decoration: none;\n",
       "}\n",
       "\n",
       "#sk-container-id-8 a.estimator_doc_link.fitted:hover {\n",
       "  /* fitted */\n",
       "  background-color: var(--sklearn-color-fitted-level-3);\n",
       "}\n",
       "</style><div id=\"sk-container-id-8\" class=\"sk-top-container\"><div class=\"sk-text-repr-fallback\"><pre>XGBClassifier(base_score=None, booster=None, callbacks=None,\n",
       "              colsample_bylevel=None, colsample_bynode=None,\n",
       "              colsample_bytree=None, early_stopping_rounds=None,\n",
       "              enable_categorical=False, eval_metric=None, feature_types=None,\n",
       "              gamma=5.0047259779731584e-05, gpu_id=None, grow_policy=None,\n",
       "              importance_type=None, interaction_constraints=None,\n",
       "              learning_rate=None, max_bin=None, max_cat_threshold=None,\n",
       "              max_cat_to_onehot=None, max_delta_step=None, max_depth=3,\n",
       "              max_leaves=None, min_child_weight=None, missing=nan,\n",
       "              monotone_constraints=None, n_estimators=100, n_jobs=None,\n",
       "              num_parallel_tree=None, predictor=None, random_state=None, ...)</pre><b>In a Jupyter environment, please rerun this cell to show the HTML representation or trust the notebook. <br />On GitHub, the HTML representation is unable to render, please try loading this page with nbviewer.org.</b></div><div class=\"sk-container\" hidden><div class=\"sk-item\"><div class=\"sk-estimator fitted sk-toggleable\"><input class=\"sk-toggleable__control sk-hidden--visually\" id=\"sk-estimator-id-8\" type=\"checkbox\" checked><label for=\"sk-estimator-id-8\" class=\"sk-toggleable__label fitted sk-toggleable__label-arrow fitted\">&nbsp;XGBClassifier<span class=\"sk-estimator-doc-link fitted\">i<span>Fitted</span></span></label><div class=\"sk-toggleable__content fitted\"><pre>XGBClassifier(base_score=None, booster=None, callbacks=None,\n",
       "              colsample_bylevel=None, colsample_bynode=None,\n",
       "              colsample_bytree=None, early_stopping_rounds=None,\n",
       "              enable_categorical=False, eval_metric=None, feature_types=None,\n",
       "              gamma=5.0047259779731584e-05, gpu_id=None, grow_policy=None,\n",
       "              importance_type=None, interaction_constraints=None,\n",
       "              learning_rate=None, max_bin=None, max_cat_threshold=None,\n",
       "              max_cat_to_onehot=None, max_delta_step=None, max_depth=3,\n",
       "              max_leaves=None, min_child_weight=None, missing=nan,\n",
       "              monotone_constraints=None, n_estimators=100, n_jobs=None,\n",
       "              num_parallel_tree=None, predictor=None, random_state=None, ...)</pre></div> </div></div></div></div>"
      ],
      "text/plain": [
       "XGBClassifier(base_score=None, booster=None, callbacks=None,\n",
       "              colsample_bylevel=None, colsample_bynode=None,\n",
       "              colsample_bytree=None, early_stopping_rounds=None,\n",
       "              enable_categorical=False, eval_metric=None, feature_types=None,\n",
       "              gamma=5.0047259779731584e-05, gpu_id=None, grow_policy=None,\n",
       "              importance_type=None, interaction_constraints=None,\n",
       "              learning_rate=None, max_bin=None, max_cat_threshold=None,\n",
       "              max_cat_to_onehot=None, max_delta_step=None, max_depth=3,\n",
       "              max_leaves=None, min_child_weight=None, missing=nan,\n",
       "              monotone_constraints=None, n_estimators=100, n_jobs=None,\n",
       "              num_parallel_tree=None, predictor=None, random_state=None, ...)"
      ]
     },
     "execution_count": 157,
     "metadata": {},
     "output_type": "execute_result"
    }
   ],
   "source": [
    "# model fit\n",
    "xgb_clf = xgb.XGBClassifier(**best_hyperparams)\n",
    "xgb_clf.fit(X_train, y_train)"
   ]
  },
  {
   "cell_type": "code",
   "execution_count": 158,
   "metadata": {},
   "outputs": [
    {
     "name": "stdout",
     "output_type": "stream",
     "text": [
      "Training Set:\n",
      "F1-score: 0.8948609146628949\n",
      "Accuracy: 0.94425\n",
      "\n",
      "Validation Set:\n",
      "F1-score: 0.7012987012987013\n",
      "Accuracy: 0.839\n"
     ]
    }
   ],
   "source": [
    "f1_train, accuracy_train, f1_val, accuracy_val = evaluate_model(xgb_clf, X_train, y_train, X_val, y_val)\n",
    "print(\"Training Set:\")\n",
    "print(\"F1-score:\", f1_train)\n",
    "print(\"Accuracy:\", accuracy_train)\n",
    "print(\"\\nValidation Set:\")\n",
    "print(\"F1-score:\", f1_val)\n",
    "print(\"Accuracy:\", accuracy_val)\n"
   ]
  },
  {
   "cell_type": "code",
   "execution_count": 159,
   "metadata": {},
   "outputs": [
    {
     "data": {
      "image/png": "[encoded data removed]",
      "text/plain": [
       "<Figure size 800x600 with 2 Axes>"
      ]
     },
     "metadata": {},
     "output_type": "display_data"
    }
   ],
   "source": [
    "eval_cm(xgb_clf,X_train,y_train,X_val,y_val)"
   ]
  },
  {
   "cell_type": "code",
   "execution_count": 165,
   "metadata": {},
   "outputs": [
    {
     "name": "stdout",
     "output_type": "stream",
     "text": [
      "mlops-pharma-usecase-1714656104-4005\n"
     ]
    }
   ],
   "source": [
    "experiment_name = unique_name_from_base(\"mlops-pharma-usecase\")\n",
    "run_name = \"XGB-run\"\n",
    "print(experiment_name)"
   ]
  },
  {
   "cell_type": "code",
   "execution_count": 166,
   "metadata": {},
   "outputs": [],
   "source": [
    "#%%time\n",
    "# Create an experiment and start a new run\n",
    "with Run(experiment_name=experiment_name, run_name=run_name, sagemaker_session=Session()) as run:\n",
    "    # Define hyperparameters dictionary\n",
    "    hyperparameters = best_hyperparams\n",
    "\n",
    "    # Log parameters using the hyperparameters dictionary\n",
    "    run.log_parameters(\n",
    "        {\"num_train_samples\": len(X_train),\n",
    "         \"num_test_samples\": len(X_val)}\n",
    "    )\n",
    "    run.log_parameters(hyperparameters)\n",
    "\n",
    "    # Log metrics\n",
    "    run.log_metric(name=\"Train_Accuracy\", value=accuracy_train)\n",
    "    run.log_metric(name=\"Validation_Accuracy\", value=accuracy_val)\n",
    "    run.log_metric(name=\"Train_F1\", value=f1_train)\n",
    "    run.log_metric(name=\"Validation_F1\", value=f1_val)\n",
    "\n",
    "    # run.log_confusion_matrix(y_val,lgbm_clf.predict(X_val),\"Confusion-matrix-validation\")\n",
    "\n",
    "    # Define input artifacts (if needed)\n",
    "    # run.log_file('datasets/input_train.npy', is_output=False)\n",
    "\n",
    "    # Save and log multiple confusion matrices\n",
    "    # cm_train_path = '../xgb/cm_train.png'\n",
    "    # cm_val_path = '../xgb/cm_val.png'\n",
    "    # auc_roc_path = '../xgb/roc_auc.png'\n",
    "\n",
    "    plt.figure(figsize=(8, 6))\n",
    "    sns.heatmap(confusion_matrix(y_train, xgb_clf.predict(X_train)), annot=True, fmt='d', cmap='Blues', cbar=False)\n",
    "    plt.title('Confusion Matrix (Train)')\n",
    "    plt.tight_layout()\n",
    "    # plt.savefig(cm_train_path)\n",
    "    plt.close()\n",
    "\n",
    "    plt.figure(figsize=(8, 6))\n",
    "    sns.heatmap(confusion_matrix(y_val, xgb_clf.predict(X_val)), annot=True, fmt='d', cmap='Blues', cbar=False)\n",
    "    plt.title('Confusion Matrix (Validation)')\n",
    "    plt.tight_layout()\n",
    "    # plt.savefig(cm_val_path)\n",
    "    plt.close()\n",
    "\n",
    "    # Compute ROC curve and ROC area\n",
    "    probs = lgbm_clf.predict_proba(X_val)\n",
    "    preds = probs[:,1]\n",
    "    fpr, tpr, threshold = roc_curve(y_val, preds)\n",
    "    roc_auc = auc(fpr, tpr)\n",
    "\n",
    "\n",
    "    # Creating the ROC curve plot\n",
    "    plt.title('Receiver Operating Characteristic')\n",
    "    plt.plot(fpr, tpr, 'b', label = 'AUC_XGB= %0.2f' % roc_auc)\n",
    "    plt.legend(loc = 'lower right')\n",
    "    plt.plot([0, 1], [0, 1],'r--')\n",
    "    plt.xlim([0, 1])\n",
    "    plt.ylim([0, 1])\n",
    "    plt.ylabel('True Positive Rate')\n",
    "    plt.xlabel('False Positive Rate')\n",
    "    plt.tight_layout()\n",
    "    # plt.savefig(auc_roc_path)\n",
    "    plt.close()\n",
    "\n",
    "    # Log confusion matrix images\n",
    "    # run.log_confusion_matrix(y_train, lgbm_clf.predict(X_train), 'Confusion-Matrix-Train')\n",
    "    run.log_confusion_matrix(y_val, lgbm_clf.predict(X_val), 'XGB-Confusion-Matrix-Validation')\n",
    "\n",
    "    # Log confusion matrix images as artifacts\n",
    "    # run.log_file(cm_train_path, is_output = False)\n",
    "    # run.log_file(cm_val_path,  is_output = False)\n",
    "    # run.log_file(auc_roc_path,  is_output = False)\n"
   ]
  }
 ],
 "metadata": {
  "kernelspec": {
   "display_name": "base",
   "language": "python",
   "name": "python3"
  },
  "language_info": {
   "codemirror_mode": {
    "name": "ipython",
    "version": 3
   },
   "file_extension": ".py",
   "mimetype": "text/x-python",
   "name": "python",
   "nbconvert_exporter": "python",
   "pygments_lexer": "ipython3",
   "version": "3.10.14"
  }
 },
 "nbformat": 4,
 "nbformat_minor": 2
}
