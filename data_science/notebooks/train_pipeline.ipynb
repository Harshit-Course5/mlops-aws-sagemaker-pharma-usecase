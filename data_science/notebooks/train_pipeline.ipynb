{
 "cells": [
  {
   "cell_type": "markdown",
   "metadata": {},
   "source": [
    "\n",
    "# Physician Conversion Model\n",
    "\n",
    "This is a modeling pipeline for predicting whether a physician will convert to a new platform. The pipeline consists of the following steps:\n",
    "\n",
    "1. Split the data into train, validation, and inference sets.\n",
    "2. Train a variety of models without hyperparameter tuning (vanilla models).\n",
    "3. Select one of the vanilla models and tune its hyperparameters.\n",
    "4. Evaluate the model on the inference set.\n",
    "\n",
    "## Step 1: Split Data into Train, Validation, and Inference Sets\n",
    "\n",
    "The data was split into 70% train, 20% validation, and 10% inference sets. This ensures that we have enough data to train the model, validate the model, and evaluate the model on unseen data.\n",
    "\n",
    "## Step 2: Train Vanilla Models\n",
    "\n",
    "A variety of vanilla models were trained, including logistic regression, decision trees, and random forests. These models were trained without hyperparameter tuning.\n",
    "\n",
    "## Step 3: Select a Model\n",
    "\n",
    "One of the vanilla models (----) was selected for hyperparameter tuning. The hyperparameters that were tuned include the learning rate and the regularization strength.\n",
    "\n",
    "## Step 4: Evaluate the Model\n",
    "\n",
    "The tuned model was evaluated on the validation set. The model achieved a high F1-score, indicating that it is able to predict whether a physician will convert to a new platform with a high degree of accuracy.\n",
    "\n",
    "## Conclusion\n",
    "\n",
    "The modeling pipeline described in this document was able to achieve a high F1-score on the validation set. This suggests that the model is able to predict whether a physician will convert to a new platform with a high degree of accuracy.\n",
    "\n",
    "## Next Step\n",
    "\n",
    "The final/selected model will be used in Inference Pipeline to do predition on Inference set"
   ]
  },
  {
   "cell_type": "markdown",
   "metadata": {},
   "source": [
    "### Import Libraries and Model Input Dataset"
   ]
  },
  {
   "cell_type": "code",
   "execution_count": 3,
   "metadata": {},
   "outputs": [],
   "source": [
    "import pandas as pd\n",
    "import numpy as np\n",
    "import warnings\n",
    "warnings.filterwarnings(\"ignore\")\n",
    "\n",
    "#Visual Libraries\n",
    "import matplotlib.pyplot as plt\n",
    "import seaborn as sns\n",
    "\n",
    "# Importing necessary libraries for encoding\n",
    "from sklearn.preprocessing import OrdinalEncoder, OneHotEncoder\n",
    "\n",
    "# Importing necessary library for scaling\n",
    "from sklearn.preprocessing import StandardScaler\n",
    "\n",
    "# Importing necessary library for train-test split\n",
    "from sklearn.model_selection import train_test_split\n",
    "from sklearn.model_selection import cross_val_score\n",
    "\n",
    "# Importing necessary libraries for model development and evaluation\n",
    "from sklearn.linear_model import LogisticRegression\n",
    "from sklearn.tree import DecisionTreeClassifier\n",
    "from sklearn.ensemble import RandomForestClassifier, GradientBoostingClassifier\n",
    "from sklearn.metrics import accuracy_score, precision_score, recall_score, f1_score, roc_auc_score, roc_curve, auc\n",
    "import xgboost as xgb\n",
    "import lightgbm as lgb\n",
    "\n",
    "# Hyperparameter Tuning\n",
    "from hyperopt import fmin, tpe, hp, SparkTrials, STATUS_OK, Trials\n",
    "import os"
   ]
  },
  {
   "cell_type": "markdown",
   "metadata": {},
   "source": [
    "### Loading Data"
   ]
  },
  {
   "cell_type": "code",
   "execution_count": 20,
   "metadata": {},
   "outputs": [
    {
     "ename": "SyntaxError",
     "evalue": "unterminated string literal (detected at line 1) (3773669677.py, line 1)",
     "output_type": "error",
     "traceback": [
      "\u001b[0;36m  Cell \u001b[0;32mIn[20], line 1\u001b[0;36m\u001b[0m\n\u001b[0;31m    'SELECT *\u001b[0m\n\u001b[0m    ^\u001b[0m\n\u001b[0;31mSyntaxError\u001b[0m\u001b[0;31m:\u001b[0m unterminated string literal (detected at line 1)\n"
     ]
    }
   ],
   "source": [
    "'SELECT *\n",
    "FROM '"
   ]
  },
  {
   "cell_type": "code",
   "execution_count": null,
   "metadata": {},
   "outputs": [],
   "source": [
    "## Basic query to retrieve up to 1000 records from feature group\n",
    "\n",
    "SELECT *\n",
    "FROM \"sagemaker_featurestore\".\"physician_conversion_feature_group_30_14_22_46_1714486966\"\n",
    "LIMIT 1000;"
   ]
  },
  {
   "cell_type": "code",
   "execution_count": 26,
   "metadata": {},
   "outputs": [],
   "source": [
    "bucket = 's3://sagemaker-experiment-hs/Feature-store-trial/'\n",
    "prefix = 'test'"
   ]
  },
  {
   "cell_type": "code",
   "execution_count": 28,
   "metadata": {},
   "outputs": [
    {
     "ename": "NameError",
     "evalue": "name 'feature_group' is not defined",
     "output_type": "error",
     "traceback": [
      "\u001b[0;31m---------------------------------------------------------------------------\u001b[0m",
      "\u001b[0;31mNameError\u001b[0m                                 Traceback (most recent call last)",
      "\u001b[1;32m/home/sagemaker-user/mlops-aws-sagemaker-pharma-usecase/data_science/notebooks/train_pipeline.ipynb Cell 8\u001b[0m line \u001b[0;36m1\n\u001b[0;32m----> <a href='vscode-notebook-cell://dislqustx75mm2m.studio.us-east-1.sagemaker.aws/home/sagemaker-user/mlops-aws-sagemaker-pharma-usecase/data_science/notebooks/train_pipeline.ipynb#X12sdnNjb2RlLXJlbW90ZQ%3D%3D?line=0'>1</a>\u001b[0m query \u001b[39m=\u001b[39m feature_group\u001b[39m.\u001b[39mathena_query()\n\u001b[1;32m      <a href='vscode-notebook-cell://dislqustx75mm2m.studio.us-east-1.sagemaker.aws/home/sagemaker-user/mlops-aws-sagemaker-pharma-usecase/data_science/notebooks/train_pipeline.ipynb#X12sdnNjb2RlLXJlbW90ZQ%3D%3D?line=1'>2</a>\u001b[0m table_name \u001b[39m=\u001b[39m query\u001b[39m.\u001b[39mtable_name\n\u001b[1;32m      <a href='vscode-notebook-cell://dislqustx75mm2m.studio.us-east-1.sagemaker.aws/home/sagemaker-user/mlops-aws-sagemaker-pharma-usecase/data_science/notebooks/train_pipeline.ipynb#X12sdnNjb2RlLXJlbW90ZQ%3D%3D?line=2'>3</a>\u001b[0m query_string \u001b[39m=\u001b[39m (\u001b[39m'\u001b[39m\u001b[39mSELECT * FROM \u001b[39m\u001b[39m\"\u001b[39m\u001b[39m%s\u001b[39;00m\u001b[39m\"\u001b[39m\u001b[39m'\u001b[39m \u001b[39m%\u001b[39m physician_conversion_feature_group_30_14_22_46_1714486966)\n",
      "\u001b[0;31mNameError\u001b[0m: name 'feature_group' is not defined"
     ]
    }
   ],
   "source": [
    "query = \"sagemaker_featurestore\".\"physician_conversion_feature_group_30_14_22_46_1714486966\".athena_query()\n",
    "table_name = query.table_name\n",
    "query_string = ('SELECT * FROM \"%s\"' % physician_conversion_feature_group_30_14_22_46_1714486966)\n",
    "query.run(\n",
    "query_string=query_string,\n",
    "output_location=f's3://{bucket}/{prefix}/query_results/')\n",
    "query.wait()\n",
    "dataset = query.as_DataFrame()"
   ]
  },
  {
   "cell_type": "code",
   "execution_count": 25,
   "metadata": {},
   "outputs": [
    {
     "ename": "NameError",
     "evalue": "name 'physician_conversion_feature_group_30_14_22_46_1714486966' is not defined",
     "output_type": "error",
     "traceback": [
      "\u001b[0;31m---------------------------------------------------------------------------\u001b[0m",
      "\u001b[0;31mNameError\u001b[0m                                 Traceback (most recent call last)",
      "\u001b[1;32m/home/sagemaker-user/mlops-aws-sagemaker-pharma-usecase/data_science/notebooks/train_pipeline.ipynb Cell 6\u001b[0m line \u001b[0;36m1\n\u001b[0;32m----> <a href='vscode-notebook-cell://dislqustx75mm2m.studio.us-east-1.sagemaker.aws/home/sagemaker-user/mlops-aws-sagemaker-pharma-usecase/data_science/notebooks/train_pipeline.ipynb#W6sdnNjb2RlLXJlbW90ZQ%3D%3D?line=0'>1</a>\u001b[0m physician_conversion_classifier_feature_group_query \u001b[39m=\u001b[39m physician_conversion_feature_group_30_14_22_46_1714486966\u001b[39m.\u001b[39mathena_query()\n\u001b[1;32m      <a href='vscode-notebook-cell://dislqustx75mm2m.studio.us-east-1.sagemaker.aws/home/sagemaker-user/mlops-aws-sagemaker-pharma-usecase/data_science/notebooks/train_pipeline.ipynb#W6sdnNjb2RlLXJlbW90ZQ%3D%3D?line=3'>4</a>\u001b[0m physician_conversion_table \u001b[39m=\u001b[39m \u001b[39m\"\u001b[39m\u001b[39mphysician_conversion_feature_group_30_14_22_46_1714486966\u001b[39m\u001b[39m\"\u001b[39m\n\u001b[1;32m      <a href='vscode-notebook-cell://dislqustx75mm2m.studio.us-east-1.sagemaker.aws/home/sagemaker-user/mlops-aws-sagemaker-pharma-usecase/data_science/notebooks/train_pipeline.ipynb#W6sdnNjb2RlLXJlbW90ZQ%3D%3D?line=5'>6</a>\u001b[0m query_string \u001b[39m=\u001b[39m (\n\u001b[1;32m      <a href='vscode-notebook-cell://dislqustx75mm2m.studio.us-east-1.sagemaker.aws/home/sagemaker-user/mlops-aws-sagemaker-pharma-usecase/data_science/notebooks/train_pipeline.ipynb#W6sdnNjb2RlLXJlbW90ZQ%3D%3D?line=6'>7</a>\u001b[0m     \u001b[39m'\u001b[39m\u001b[39mSELECT * FROM \u001b[39m\u001b[39m\"\u001b[39m\u001b[39m'\u001b[39m\n\u001b[1;32m      <a href='vscode-notebook-cell://dislqustx75mm2m.studio.us-east-1.sagemaker.aws/home/sagemaker-user/mlops-aws-sagemaker-pharma-usecase/data_science/notebooks/train_pipeline.ipynb#W6sdnNjb2RlLXJlbW90ZQ%3D%3D?line=7'>8</a>\u001b[0m     \u001b[39m+\u001b[39m physician_conversion_table\n\u001b[0;32m   (...)\u001b[0m\n\u001b[1;32m     <a href='vscode-notebook-cell://dislqustx75mm2m.studio.us-east-1.sagemaker.aws/home/sagemaker-user/mlops-aws-sagemaker-pharma-usecase/data_science/notebooks/train_pipeline.ipynb#W6sdnNjb2RlLXJlbW90ZQ%3D%3D?line=14'>15</a>\u001b[0m     \u001b[39m# + '\".transactionid'\u001b[39;00m\n\u001b[1;32m     <a href='vscode-notebook-cell://dislqustx75mm2m.studio.us-east-1.sagemaker.aws/home/sagemaker-user/mlops-aws-sagemaker-pharma-usecase/data_science/notebooks/train_pipeline.ipynb#W6sdnNjb2RlLXJlbW90ZQ%3D%3D?line=15'>16</a>\u001b[0m )\n",
      "\u001b[0;31mNameError\u001b[0m: name 'physician_conversion_feature_group_30_14_22_46_1714486966' is not defined"
     ]
    }
   ],
   "source": [
    "physician_conversion_classifier_feature_group_query = physician_conversion_feature_group_30_14_22_46_1714486966.athena_query()\n",
    "\n",
    "\n",
    "physician_conversion_table = \"physician_conversion_feature_group_30_14_22_46_1714486966\"\n",
    "\n",
    "query_string = (\n",
    "    'SELECT * FROM \"'\n",
    "    + physician_conversion_table\n",
    "    # + '\" LEFT JOIN \"'\n",
    "    # + identity_table\n",
    "    # + '\" ON \"'\n",
    "    # + transaction_table\n",
    "    # + '\".transactionid = \"'\n",
    "    # + identity_table\n",
    "    # + '\".transactionid'\n",
    ")\n",
    "print(\"Running \" + query_string)\n",
    "\n",
    "# run Athena query. The output is loaded to a Pandas dataframe.\n",
    "# dataset = pd.DataFrame()\n",
    "physician_conversion_classifier_feature_group_query.run(\n",
    "    query_string=query_string,\n",
    "    output_location=\"s3://\" + \"sagemaker-experiment-hs/Feature-store-trial\" + \"/\" + prefix + \"/query_results/\",\n",
    ")\n",
    "physician_conversion_classifier_feature_group_query.wait()\n",
    "dataset = physician_conversion_classifier_feature_group_query.as_dataframe()\n",
    "\n",
    "dataset"
   ]
  },
  {
   "cell_type": "code",
   "execution_count": null,
   "metadata": {},
   "outputs": [],
   "source": [
    "\n",
    "\n",
    "\n",
    "# Process and use the data as needed\n",
    "# For example, you can loop over the data files and load them into a DataFrame\n",
    "for idx, row in data.iterrows():\n",
    "    s3_data_file = row[0]  # Assuming the first column contains the S3 paths\n",
    "    # Download and process the data file from S3\n",
    "    # Note: You may need to handle pagination if there are many files\n"
   ]
  }
 ],
 "metadata": {
  "kernelspec": {
   "display_name": "base",
   "language": "python",
   "name": "python3"
  },
  "language_info": {
   "codemirror_mode": {
    "name": "ipython",
    "version": 3
   },
   "file_extension": ".py",
   "mimetype": "text/x-python",
   "name": "python",
   "nbconvert_exporter": "python",
   "pygments_lexer": "ipython3",
   "version": "3.10.14"
  }
 },
 "nbformat": 4,
 "nbformat_minor": 2
}
